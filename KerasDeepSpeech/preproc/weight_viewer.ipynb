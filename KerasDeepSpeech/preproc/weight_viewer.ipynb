{
 "cells": [
  {
   "cell_type": "markdown",
   "metadata": {},
   "source": [
    "## Keras weight viewer -\n",
    "\n",
    "from:https://github.com/fchollet/keras/issues/91"
   ]
  },
  {
   "cell_type": "code",
   "execution_count": 9,
   "metadata": {
    "collapsed": true
   },
   "outputs": [],
   "source": [
    "from __future__ import print_function\n",
    "\n",
    "import h5py\n",
    "\n",
    "def print_structure(weight_file_path):\n",
    "    \"\"\"\n",
    "    Prints out the structure of HDF5 file.\n",
    "\n",
    "    Args:\n",
    "      weight_file_path (str) : Path to the file to analyze\n",
    "    \"\"\"\n",
    "    f = h5py.File(weight_file_path)\n",
    "    try:\n",
    "        if len(f.attrs.items()):\n",
    "            print(\"{} contains: \".format(weight_file_path))\n",
    "            print(\"Root attributes:\")\n",
    "        for key, value in f.attrs.items():\n",
    "            print(\"  {}: {}\".format(key, value))\n",
    "\n",
    "        if len(f.items())==0:\n",
    "            return \n",
    "\n",
    "        for layer, g in f.items():\n",
    "            print(\"  {}\".format(layer))\n",
    "            print(\"    Attributes:\")\n",
    "            for key, value in g.attrs.items():\n",
    "                print(\"      {}: {}\".format(key, value))\n",
    "\n",
    "            print(\"    Dataset:\")\n",
    "            for p_name in g.keys():\n",
    "                param = g[p_name]\n",
    "                print(\"      {}: {}\".format(p_name, param))\n",
    "    finally:\n",
    "        f.close()"
   ]
  },
  {
   "cell_type": "code",
   "execution_count": 11,
   "metadata": {
    "scrolled": false
   },
   "outputs": [
    {
     "name": "stdout",
     "output_type": "stream",
     "text": [
      "../checkpoints/epoch/LER-WER-best-DS3_2017-09-02_13-40/cmodel.h5 contains: \n",
      "Root attributes:\n",
      "  keras_version: 2.0.4\n",
      "  backend: tensorflow\n",
      "  model_config: {\"class_name\": \"Model\", \"config\": {\"layers\": [{\"class_name\": \"InputLayer\", \"config\": {\"dtype\": \"float32\", \"batch_input_shape\": [null, null, 26], \"name\": \"the_input\", \"sparse\": false}, \"inbound_nodes\": [], \"name\": \"the_input\"}, {\"class_name\": \"BatchNormalization\", \"config\": {\"beta_constraint\": null, \"gamma_initializer\": {\"class_name\": \"Ones\", \"config\": {}}, \"moving_mean_initializer\": {\"class_name\": \"Zeros\", \"config\": {}}, \"name\": \"batch_normalization_1\", \"epsilon\": 0.001, \"trainable\": true, \"moving_variance_initializer\": {\"class_name\": \"Ones\", \"config\": {}}, \"beta_initializer\": {\"class_name\": \"Zeros\", \"config\": {}}, \"scale\": true, \"axis\": -1, \"gamma_constraint\": null, \"gamma_regularizer\": null, \"beta_regularizer\": null, \"momentum\": 0.99, \"center\": true}, \"inbound_nodes\": [[[\"the_input\", 0, 0, {}]]], \"name\": \"batch_normalization_1\"}, {\"class_name\": \"TimeDistributed\", \"config\": {\"layer\": {\"class_name\": \"Dense\", \"config\": {\"kernel_initializer\": {\"class_name\": \"RandomNormal\", \"config\": {\"seed\": null, \"stddev\": 0.046875, \"mean\": 0.0}}, \"name\": \"fc1\", \"kernel_constraint\": null, \"bias_regularizer\": null, \"bias_constraint\": null, \"activation\": \"selu\", \"trainable\": true, \"kernel_regularizer\": null, \"bias_initializer\": {\"class_name\": \"RandomNormal\", \"config\": {\"seed\": null, \"stddev\": 0.046875, \"mean\": 0.0}}, \"units\": 1024, \"use_bias\": true, \"activity_regularizer\": null}}, \"trainable\": true, \"name\": \"time_distributed_1\"}, \"inbound_nodes\": [[[\"batch_normalization_1\", 0, 0, {}]]], \"name\": \"time_distributed_1\"}, {\"class_name\": \"TimeDistributed\", \"config\": {\"layer\": {\"class_name\": \"Dropout\", \"config\": {\"rate\": 0.1, \"trainable\": true, \"name\": \"dropout_1\"}}, \"trainable\": true, \"name\": \"time_distributed_2\"}, \"inbound_nodes\": [[[\"time_distributed_1\", 0, 0, {}]]], \"name\": \"time_distributed_2\"}, {\"class_name\": \"TimeDistributed\", \"config\": {\"layer\": {\"class_name\": \"Dense\", \"config\": {\"kernel_initializer\": {\"class_name\": \"RandomNormal\", \"config\": {\"seed\": null, \"stddev\": 0.046875, \"mean\": 0.0}}, \"name\": \"fc2\", \"kernel_constraint\": null, \"bias_regularizer\": null, \"bias_constraint\": null, \"activation\": \"clipped_relu\", \"trainable\": true, \"kernel_regularizer\": null, \"bias_initializer\": {\"class_name\": \"RandomNormal\", \"config\": {\"seed\": null, \"stddev\": 0.046875, \"mean\": 0.0}}, \"units\": 1024, \"use_bias\": true, \"activity_regularizer\": null}}, \"trainable\": true, \"name\": \"time_distributed_3\"}, \"inbound_nodes\": [[[\"time_distributed_2\", 0, 0, {}]]], \"name\": \"time_distributed_3\"}, {\"class_name\": \"TimeDistributed\", \"config\": {\"layer\": {\"class_name\": \"Dropout\", \"config\": {\"rate\": 0.1, \"trainable\": true, \"name\": \"dropout_2\"}}, \"trainable\": true, \"name\": \"time_distributed_4\"}, \"inbound_nodes\": [[[\"time_distributed_3\", 0, 0, {}]]], \"name\": \"time_distributed_4\"}, {\"class_name\": \"TimeDistributed\", \"config\": {\"layer\": {\"class_name\": \"Dense\", \"config\": {\"kernel_initializer\": {\"class_name\": \"RandomNormal\", \"config\": {\"seed\": null, \"stddev\": 0.046875, \"mean\": 0.0}}, \"name\": \"fc3\", \"kernel_constraint\": null, \"bias_regularizer\": null, \"bias_constraint\": null, \"activation\": \"clipped_relu\", \"trainable\": true, \"kernel_regularizer\": null, \"bias_initializer\": {\"class_name\": \"RandomNormal\", \"config\": {\"seed\": null, \"stddev\": 0.046875, \"mean\": 0.0}}, \"units\": 1024, \"use_bias\": true, \"activity_regularizer\": null}}, \"trainable\": true, \"name\": \"time_distributed_5\"}, \"inbound_nodes\": [[[\"time_distributed_4\", 0, 0, {}]]], \"name\": \"time_distributed_5\"}, {\"class_name\": \"TimeDistributed\", \"config\": {\"layer\": {\"class_name\": \"Dropout\", \"config\": {\"rate\": 0.1, \"trainable\": true, \"name\": \"dropout_3\"}}, \"trainable\": true, \"name\": \"time_distributed_6\"}, \"inbound_nodes\": [[[\"time_distributed_5\", 0, 0, {}]]], \"name\": \"time_distributed_6\"}, {\"class_name\": \"BatchNormalization\", \"config\": {\"beta_constraint\": null, \"gamma_initializer\": {\"class_name\": \"Ones\", \"config\": {}}, \"moving_mean_initializer\": {\"class_name\": \"Zeros\", \"config\": {}}, \"name\": \"batch_normalization_2\", \"epsilon\": 0.001, \"trainable\": true, \"moving_variance_initializer\": {\"class_name\": \"Ones\", \"config\": {}}, \"beta_initializer\": {\"class_name\": \"Zeros\", \"config\": {}}, \"scale\": true, \"axis\": -1, \"gamma_constraint\": null, \"gamma_regularizer\": null, \"beta_regularizer\": null, \"momentum\": 0.99, \"center\": true}, \"inbound_nodes\": [[[\"time_distributed_6\", 0, 0, {}]]], \"name\": \"batch_normalization_2\"}, {\"class_name\": \"Bidirectional\", \"config\": {\"merge_mode\": \"sum\", \"layer\": {\"class_name\": \"GRU\", \"config\": {\"recurrent_activation\": \"hard_sigmoid\", \"trainable\": true, \"recurrent_initializer\": {\"class_name\": \"Orthogonal\", \"config\": {\"seed\": null, \"gain\": 1.0}}, \"use_bias\": true, \"bias_regularizer\": null, \"implementation\": 0, \"unroll\": false, \"activation\": \"clipped_relu\", \"bias_initializer\": {\"class_name\": \"Zeros\", \"config\": {}}, \"units\": 1024, \"activity_regularizer\": null, \"recurrent_dropout\": 0.0, \"kernel_initializer\": {\"class_name\": \"VarianceScaling\", \"config\": {\"distribution\": \"normal\", \"scale\": 2.0, \"seed\": null, \"mode\": \"fan_in\"}}, \"kernel_constraint\": null, \"dropout\": 0.1, \"stateful\": false, \"recurrent_regularizer\": null, \"name\": \"birnn\", \"bias_constraint\": null, \"go_backwards\": false, \"kernel_regularizer\": null, \"return_sequences\": true, \"recurrent_constraint\": null}}, \"trainable\": true, \"name\": \"bidirectional_1\"}, \"inbound_nodes\": [[[\"batch_normalization_2\", 0, 0, {}]]], \"name\": \"bidirectional_1\"}, {\"class_name\": \"TimeDistributed\", \"config\": {\"layer\": {\"class_name\": \"Dense\", \"config\": {\"kernel_initializer\": {\"class_name\": \"RandomNormal\", \"config\": {\"seed\": null, \"stddev\": 0.046875, \"mean\": 0.0}}, \"name\": \"dense_1\", \"kernel_constraint\": null, \"bias_regularizer\": null, \"bias_constraint\": null, \"activation\": \"selu\", \"trainable\": true, \"kernel_regularizer\": null, \"bias_initializer\": {\"class_name\": \"RandomNormal\", \"config\": {\"seed\": null, \"stddev\": 0.046875, \"mean\": 0.0}}, \"units\": 1024, \"use_bias\": true, \"activity_regularizer\": null}}, \"trainable\": true, \"name\": \"time_distributed_7\"}, \"inbound_nodes\": [[[\"bidirectional_1\", 0, 0, {}]]], \"name\": \"time_distributed_7\"}, {\"class_name\": \"TimeDistributed\", \"config\": {\"layer\": {\"class_name\": \"Dropout\", \"config\": {\"rate\": 0.1, \"trainable\": true, \"name\": \"dropout_4\"}}, \"trainable\": true, \"name\": \"time_distributed_8\"}, \"inbound_nodes\": [[[\"time_distributed_7\", 0, 0, {}]]], \"name\": \"time_distributed_8\"}, {\"class_name\": \"TimeDistributed\", \"config\": {\"layer\": {\"class_name\": \"Dense\", \"config\": {\"kernel_initializer\": {\"class_name\": \"RandomNormal\", \"config\": {\"seed\": null, \"stddev\": 0.046875, \"mean\": 0.0}}, \"name\": \"y_pred\", \"kernel_constraint\": null, \"bias_regularizer\": null, \"bias_constraint\": null, \"activation\": \"softmax\", \"trainable\": true, \"kernel_regularizer\": null, \"bias_initializer\": {\"class_name\": \"RandomNormal\", \"config\": {\"seed\": null, \"stddev\": 0.046875, \"mean\": 0.0}}, \"units\": 29, \"use_bias\": true, \"activity_regularizer\": null}}, \"trainable\": true, \"name\": \"out\"}, \"inbound_nodes\": [[[\"time_distributed_8\", 0, 0, {}]]], \"name\": \"out\"}, {\"class_name\": \"InputLayer\", \"config\": {\"dtype\": \"int32\", \"batch_input_shape\": [null, null], \"name\": \"the_labels\", \"sparse\": false}, \"inbound_nodes\": [], \"name\": \"the_labels\"}, {\"class_name\": \"InputLayer\", \"config\": {\"dtype\": \"int32\", \"batch_input_shape\": [null, 1], \"name\": \"input_length\", \"sparse\": false}, \"inbound_nodes\": [], \"name\": \"input_length\"}, {\"class_name\": \"InputLayer\", \"config\": {\"dtype\": \"int32\", \"batch_input_shape\": [null, 1], \"name\": \"label_length\", \"sparse\": false}, \"inbound_nodes\": [], \"name\": \"label_length\"}, {\"class_name\": \"Lambda\", \"config\": {\"function\": [\"c\\u0001\\u0000\\u0000\\u0000\\u0006\\u0000\\u0000\\u0000\\u0005\\u0000\\u0000\\u0000C`\\u0001\\u0000s4\\u0000\\u0000\\u0000|\\u0000\\u0000\\\\\\u0004\\u0000}\\u0001\\u0000}\\u0002\\u0000}\\u0003\\u0000}\\u0004\\u0000d\\u0001\\u0000d\\u0000\\u0000l\\u0000\\u0000}\\u0005\\u0000t\\u0001\\u0000j\\u0002\\u0000|\\u0002\\u0000|\\u0001\\u0000|\\u0003\\u0000|\\u0004\\u0000\\u0083\\u0004\\u0000S(\\u0002\\u0000\\u0000\\u0000Ni\\u0000\\u0000\\u0000\\u0000(\\u0003\\u0000\\u0000\\u0000t\\n\\u0000\\u0000\\u0000tensorflowt\\u0001\\u0000\\u0000\\u0000Kt\\u000e\\u0000\\u0000\\u0000ctc_batch_cost(\\u0006\\u0000\\u0000\\u0000t\\u0004\\u0000\\u0000\\u0000argst\\u0006\\u0000\\u0000\\u0000y_predt\\u0006\\u0000\\u0000\\u0000labelst\\f\\u0000\\u0000\\u0000input_lengtht\\f\\u0000\\u0000\\u0000label_lengtht\\u0002\\u0000\\u0000\\u0000tf(\\u0000\\u0000\\u0000\\u0000(\\u0000\\u0000\\u0000\\u0000s.\\u0000\\u0000\\u0000/cluster/project2/darkspeech/rob/kDS2/model.pyt\\u000f\\u0000\\u0000\\u0000ctc_lambda_func:\\u0000\\u0000\\u0000s\\u0006\\u0000\\u0000\\u0000\\u0000\\u0001\\u0012\\u0003\\f\\u000e\", null, null], \"name\": \"ctc\", \"trainable\": true, \"function_type\": \"lambda\", \"arguments\": {}, \"output_shape\": [1], \"output_shape_type\": \"raw\"}, \"inbound_nodes\": [[[\"out\", 0, 0, {}], [\"the_labels\", 0, 0, {}], [\"input_length\", 0, 0, {}], [\"label_length\", 0, 0, {}]]], \"name\": \"ctc\"}], \"input_layers\": [[\"the_input\", 0, 0], [\"the_labels\", 0, 0], [\"input_length\", 0, 0], [\"label_length\", 0, 0]], \"output_layers\": [[\"ctc\", 0, 0]], \"name\": \"model_1\"}}\n",
      "  training_config: {\"metrics\": null, \"loss\": \"ctc\", \"optimizer_config\": {\"class_name\": \"SGD\", \"config\": {\"clipnorm\": 5, \"nesterov\": true, \"lr\": 0.009999999776482582, \"momentum\": 0.8999999761581421, \"decay\": 9.999999974752427e-07}}, \"loss_weights\": null, \"sample_weight_mode\": null}\n",
      "  model_weights\n",
      "    Attributes:\n",
      "      layer_names: ['the_input' 'batch_normalization_1' 'time_distributed_1'\n",
      " 'time_distributed_2' 'time_distributed_3' 'time_distributed_4'\n",
      " 'time_distributed_5' 'time_distributed_6' 'batch_normalization_2'\n",
      " 'bidirectional_1' 'time_distributed_7' 'time_distributed_8' 'out'\n",
      " 'the_labels' 'input_length' 'label_length' 'ctc']\n",
      "      backend: tensorflow\n",
      "      keras_version: 2.0.4\n",
      "    Dataset:\n",
      "      batch_normalization_1: <HDF5 group \"/model_weights/batch_normalization_1\" (1 members)>\n",
      "      batch_normalization_2: <HDF5 group \"/model_weights/batch_normalization_2\" (1 members)>\n",
      "      bidirectional_1: <HDF5 group \"/model_weights/bidirectional_1\" (1 members)>\n",
      "      ctc: <HDF5 group \"/model_weights/ctc\" (0 members)>\n",
      "      input_length: <HDF5 group \"/model_weights/input_length\" (0 members)>\n",
      "      label_length: <HDF5 group \"/model_weights/label_length\" (0 members)>\n",
      "      out: <HDF5 group \"/model_weights/out\" (1 members)>\n",
      "      the_input: <HDF5 group \"/model_weights/the_input\" (0 members)>\n",
      "      the_labels: <HDF5 group \"/model_weights/the_labels\" (0 members)>\n",
      "      time_distributed_1: <HDF5 group \"/model_weights/time_distributed_1\" (1 members)>\n",
      "      time_distributed_2: <HDF5 group \"/model_weights/time_distributed_2\" (0 members)>\n",
      "      time_distributed_3: <HDF5 group \"/model_weights/time_distributed_3\" (1 members)>\n",
      "      time_distributed_4: <HDF5 group \"/model_weights/time_distributed_4\" (0 members)>\n",
      "      time_distributed_5: <HDF5 group \"/model_weights/time_distributed_5\" (1 members)>\n",
      "      time_distributed_6: <HDF5 group \"/model_weights/time_distributed_6\" (0 members)>\n",
      "      time_distributed_7: <HDF5 group \"/model_weights/time_distributed_7\" (1 members)>\n",
      "      time_distributed_8: <HDF5 group \"/model_weights/time_distributed_8\" (0 members)>\n",
      "  optimizer_weights\n",
      "    Attributes:\n",
      "      weight_names: ['iterations:0' 'Variable:0' 'Variable_1:0' 'Variable_2:0' 'Variable_3:0'\n",
      " 'Variable_4:0' 'Variable_5:0' 'Variable_6:0' 'Variable_7:0' 'Variable_8:0'\n",
      " 'Variable_9:0' 'Variable_10:0' 'Variable_11:0' 'Variable_12:0'\n",
      " 'Variable_13:0' 'Variable_14:0' 'Variable_15:0' 'Variable_16:0'\n",
      " 'Variable_17:0' 'Variable_18:0' 'Variable_19:0']\n",
      "    Dataset:\n",
      "      Variable:0: <HDF5 dataset \"Variable:0\": shape (26,), type \"<f4\">\n",
      "      Variable_10:0: <HDF5 dataset \"Variable_10:0\": shape (29,), type \"<f4\">\n",
      "      Variable_11:0: <HDF5 dataset \"Variable_11:0\": shape (1024, 29), type \"<f4\">\n",
      "      Variable_12:0: <HDF5 dataset \"Variable_12:0\": shape (1024,), type \"<f4\">\n",
      "      Variable_13:0: <HDF5 dataset \"Variable_13:0\": shape (26, 1024), type \"<f4\">\n",
      "      Variable_14:0: <HDF5 dataset \"Variable_14:0\": shape (1024,), type \"<f4\">\n",
      "      Variable_15:0: <HDF5 dataset \"Variable_15:0\": shape (1024, 1024), type \"<f4\">\n",
      "      Variable_16:0: <HDF5 dataset \"Variable_16:0\": shape (1024,), type \"<f4\">\n",
      "      Variable_17:0: <HDF5 dataset \"Variable_17:0\": shape (1024, 1024), type \"<f4\">\n",
      "      Variable_18:0: <HDF5 dataset \"Variable_18:0\": shape (1024,), type \"<f4\">\n",
      "      Variable_19:0: <HDF5 dataset \"Variable_19:0\": shape (1024, 1024), type \"<f4\">\n",
      "      Variable_1:0: <HDF5 dataset \"Variable_1:0\": shape (26,), type \"<f4\">\n",
      "      Variable_2:0: <HDF5 dataset \"Variable_2:0\": shape (1024,), type \"<f4\">\n",
      "      Variable_3:0: <HDF5 dataset \"Variable_3:0\": shape (1024,), type \"<f4\">\n",
      "      Variable_4:0: <HDF5 dataset \"Variable_4:0\": shape (3072,), type \"<f4\">\n",
      "      Variable_5:0: <HDF5 dataset \"Variable_5:0\": shape (1024, 3072), type \"<f4\">\n",
      "      Variable_6:0: <HDF5 dataset \"Variable_6:0\": shape (1024, 3072), type \"<f4\">\n",
      "      Variable_7:0: <HDF5 dataset \"Variable_7:0\": shape (3072,), type \"<f4\">\n",
      "      Variable_8:0: <HDF5 dataset \"Variable_8:0\": shape (1024, 3072), type \"<f4\">\n",
      "      Variable_9:0: <HDF5 dataset \"Variable_9:0\": shape (1024, 3072), type \"<f4\">\n",
      "      iterations:0: <HDF5 dataset \"iterations:0\": shape (), type \"<f4\">\n"
     ]
    }
   ],
   "source": [
    "print_structure(\"../checkpoints/epoch/LER-WER-best-DS3_2017-09-02_13-40/cmodel.h5\")"
   ]
  },
  {
   "cell_type": "code",
   "execution_count": null,
   "metadata": {
    "collapsed": true
   },
   "outputs": [],
   "source": []
  }
 ],
 "metadata": {
  "kernelspec": {
   "display_name": "Python 2",
   "language": "python",
   "name": "python2"
  },
  "language_info": {
   "codemirror_mode": {
    "name": "ipython",
    "version": 2
   },
   "file_extension": ".py",
   "mimetype": "text/x-python",
   "name": "python",
   "nbconvert_exporter": "python",
   "pygments_lexer": "ipython2",
   "version": "2.7.12"
  }
 },
 "nbformat": 4,
 "nbformat_minor": 1
}
