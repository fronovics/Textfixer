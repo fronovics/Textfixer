{
 "cells": [
  {
   "cell_type": "markdown",
   "metadata": {},
   "source": [
    "# Train Deep Speech neural net on text data\n",
    "\n",
    "1. Global set up - setting up logging and root directory for including the modules, files etc.\n",
    "2. Load Simple Wikipedia, clean up the data, transform into idx-s and one-hot vectors.\n",
    "3. Initialize training and validation datasets.\n",
    "4. Run training."
   ]
  },
  {
   "cell_type": "markdown",
   "metadata": {},
   "source": [
    "## 1. Global setup\n",
    "Set up logging and paths"
   ]
  },
  {
   "cell_type": "code",
   "execution_count": 1,
   "metadata": {},
   "outputs": [],
   "source": [
    "try:\n",
    "    with open(\"global_setup.py\") as setupfile:\n",
    "        exec(setupfile.read())\n",
    "except FileNotFoundError:\n",
    "    print('Setup already completed')"
   ]
  },
  {
   "cell_type": "markdown",
   "metadata": {},
   "source": [
    "## 2. Import the required packages"
   ]
  },
  {
   "cell_type": "code",
   "execution_count": 2,
   "metadata": {},
   "outputs": [],
   "source": [
    "import random\n",
    "import tensorflow as tf\n",
    "from keras.utils import to_categorical\n",
    "import numpy as np\n",
    "from nltk import tokenize # Text to sentences\n",
    "import pandas as pd # Train and Validation data generation\n",
    "import re\n",
    "import pprint\n",
    "from src.wikipedia import Wikipedia\n",
    "#random.seed(12345)"
   ]
  },
  {
   "cell_type": "markdown",
   "metadata": {},
   "source": [
    "## 4. Load the Simple Wikipedia"
   ]
  },
  {
   "cell_type": "code",
   "execution_count": 3,
   "metadata": {},
   "outputs": [
    {
     "name": "stdout",
     "output_type": "stream",
     "text": [
      "simplewiki-latest-pages-articles-multistream.xml.bz2\n",
      "Loading parsed documents.\n",
      "Loading preprocessed documents.\n",
      "Wikipedia loaded.\n"
     ]
    }
   ],
   "source": [
    "wikipedia = Wikipedia(\n",
    "    language=\"simple\",\n",
    "    cache_directory_url=False\n",
    ")"
   ]
  },
  {
   "cell_type": "markdown",
   "metadata": {},
   "source": [
    "## 5. Clean-up the data"
   ]
  },
  {
   "cell_type": "code",
   "execution_count": 4,
   "metadata": {},
   "outputs": [],
   "source": [
    "# Cleaning up simple wikipedia texts\n",
    "pattern_ignored_words = re.compile(\n",
    "    r\"\"\"\n",
    "    (?:(?:thumb|thumbnail|left|right|\\d+px|upright(?:=[0-9\\.]+)?)\\|)+\n",
    "    |^\\s*\\|.+$\n",
    "    |^REDIRECT\\b\"\"\",\n",
    "    flags=re.DOTALL | re.UNICODE | re.VERBOSE | re.MULTILINE)\n",
    "pattern_new_lines = re.compile('[\\n\\r ]+', re.UNICODE)\n",
    "texts = [wikipedia.documents[i].text for i in range(len(wikipedia.documents))]\n",
    "texts = [pattern_ignored_words.sub('', texts[i]) for i in range(len(texts))]\n",
    "texts = [pattern_new_lines.sub(' ', texts[i]) for i in range(len(texts))]\n",
    "texts = [texts[i].replace(\"\\\\\", \"\") for i in range(len(texts))]\n",
    "texts = [texts[i].replace(\"\\xa0\", \" \") for i in range(len(texts))]"
   ]
  },
  {
   "cell_type": "markdown",
   "metadata": {},
   "source": [
    "## 6. Divide into sentences"
   ]
  },
  {
   "cell_type": "code",
   "execution_count": 26,
   "metadata": {},
   "outputs": [],
   "source": [
    "# Simple wikipedia article texts into single sentences\n",
    "\n",
    "sentences = []\n",
    "sentences += [tokenize.sent_tokenize(texts[i]) for i in range(len(texts))]\n",
    "#sentences += [texts[i].split(\". \") for i## 6. Divide into sentences in range(len(texts))] #len(texts)\n",
    "# Now sentences is a list of lists. The next expression flattens it into one long list.\n",
    "sentences = [item for sublist in sentences for item in sublist]"
   ]
  },
  {
   "cell_type": "code",
   "execution_count": 6,
   "metadata": {},
   "outputs": [
    {
     "name": "stdout",
     "output_type": "stream",
     "text": [
      "['The Month Spring flowers in April in the Northern Hemisphere.',\n",
      " 'April comes between March and May, making it the fourth month of the year.',\n",
      " 'It also comes first in the year out of the four months that have 30 days, as '\n",
      " 'June, September and November are later in the year.']\n"
     ]
    }
   ],
   "source": [
    "pprint.pprint(sentences[0:3])"
   ]
  },
  {
   "cell_type": "markdown",
   "metadata": {},
   "source": [
    "## 7. Clean-up sentences and remove too long and short ones"
   ]
  },
  {
   "cell_type": "markdown",
   "metadata": {},
   "source": [
    "Median sentence length is 83 symbols. We remove the sentences shorter than 20 symbols and longer than 100 symbols to clean up the dataset.<br><br>\n",
    "We also remove the sentences starting with \"Category:\", \"Related pages\", \"References\", \"Other websites:\". <br>\n",
    "These are technical Wikipedia pages that we do not need. Need to check for more, e.g. \"Gallery\"."
   ]
  },
  {
   "cell_type": "code",
   "execution_count": 27,
   "metadata": {},
   "outputs": [
    {
     "name": "stdout",
     "output_type": "stream",
     "text": [
      "1142223\n",
      "648280\n"
     ]
    }
   ],
   "source": [
    "print(len(sentences))\n",
    "for i in reversed(range(len(sentences))):\n",
    "    if len(sentences[i]) < 20 or len(sentences[i]) > 100 \\\n",
    "        or sentences[i][0:9] == \"Category:\" \\\n",
    "        or sentences[i][0:13] == \"Related pages\" \\\n",
    "        or sentences[i][0:10] == \"References\" \\\n",
    "        or sentences[i][0:14] == \"Other websites\":\n",
    "        sentences.pop(i)\n",
    "print(len(sentences))\n",
    "\n",
    "#Gallery - do something?"
   ]
  },
  {
   "cell_type": "code",
   "execution_count": 8,
   "metadata": {},
   "outputs": [
    {
     "name": "stdout",
     "output_type": "stream",
     "text": [
      "['McCarty later explained the work for the general reader.',\n",
      " 'Uses Propene is produced from fossil fuels, and from coal.',\n",
      " 'Propene is the second most important product used in the petrochemical '\n",
      " 'industry, after Ethene.',\n",
      " 'About two thirds are used to produce Polypropylene.',\n",
      " 'Propene and benzene are converted to acetone and phenol via the cumene '\n",
      " 'process.']\n"
     ]
    }
   ],
   "source": [
    "pprint.pprint(sentences[530000:530005])"
   ]
  },
  {
   "cell_type": "code",
   "execution_count": 9,
   "metadata": {},
   "outputs": [
    {
     "name": "stdout",
     "output_type": "stream",
     "text": [
      "63.0\n",
      "20 - 2262\n",
      "21 - 2398\n",
      "22 - 6644\n",
      "23 - 2670\n",
      "24 - 3251\n",
      "25 - 3208\n",
      "26 - 3194\n",
      "27 - 3488\n",
      "28 - 3590\n",
      "29 - 3899\n",
      "30 - 4177\n",
      "31 - 4754\n",
      "32 - 4765\n",
      "33 - 5145\n",
      "34 - 5282\n",
      "35 - 5572\n",
      "36 - 5968\n",
      "37 - 6002\n",
      "38 - 6286\n",
      "39 - 6727\n",
      "40 - 6990\n",
      "41 - 7439\n",
      "42 - 7753\n",
      "43 - 8142\n",
      "44 - 8835\n",
      "45 - 9162\n",
      "46 - 9368\n",
      "47 - 9875\n",
      "48 - 10349\n",
      "49 - 10546\n",
      "50 - 10651\n",
      "51 - 10699\n",
      "52 - 10742\n",
      "53 - 10845\n",
      "54 - 10767\n",
      "55 - 10812\n",
      "56 - 10723\n",
      "57 - 10611\n",
      "58 - 10619\n",
      "59 - 10610\n",
      "60 - 10586\n",
      "61 - 10580\n",
      "62 - 10482\n",
      "63 - 10394\n",
      "64 - 10473\n",
      "65 - 10232\n",
      "66 - 10094\n",
      "67 - 10029\n",
      "68 - 10016\n",
      "69 - 9925\n",
      "70 - 9713\n",
      "71 - 9810\n",
      "72 - 9634\n",
      "73 - 9984\n",
      "74 - 9663\n",
      "75 - 9281\n",
      "76 - 9452\n",
      "77 - 9147\n",
      "78 - 9420\n",
      "79 - 8992\n",
      "80 - 8905\n",
      "81 - 8782\n",
      "82 - 8805\n",
      "83 - 8615\n",
      "84 - 8441\n",
      "85 - 8453\n",
      "86 - 8247\n",
      "87 - 8388\n",
      "88 - 8352\n",
      "89 - 7819\n",
      "90 - 7911\n",
      "91 - 7842\n",
      "92 - 7697\n",
      "93 - 7515\n",
      "94 - 7169\n",
      "95 - 7359\n",
      "96 - 7289\n",
      "97 - 7207\n",
      "98 - 7034\n",
      "99 - 6955\n",
      "100 - 6768\n"
     ]
    }
   ],
   "source": [
    "import statistics\n",
    "sentence_lengths = [len(sentences[i]) for i in range(len(sentences))]\n",
    "print(statistics.median(sentence_lengths))\n",
    "\n",
    "from collections import defaultdict\n",
    "appearances = defaultdict(int)\n",
    "\n",
    "sentence_lengths.sort()\n",
    "\n",
    "for curr in sentence_lengths:\n",
    "    appearances[curr] += 1\n",
    "    \n",
    "a = set(sentence_lengths) \n",
    "for i in a:\n",
    "    print(\"{} - {}\".format(i, appearances[i]))"
   ]
  },
  {
   "cell_type": "markdown",
   "metadata": {},
   "source": [
    "## 8. Generate training data\n",
    "\n",
    "1. Convert sentences into IDXs (replace characters with integers).\n",
    "2. Convert IDXs into one-hot vectors"
   ]
  },
  {
   "cell_type": "code",
   "execution_count": 28,
   "metadata": {},
   "outputs": [
    {
     "data": {
      "text/plain": [
       "array([[1., 0., 0., 0., 0., 0., 0., 0., 0., 0., 0., 0., 0., 0., 0., 0.,\n",
       "        0., 0., 0., 0., 0., 0., 0., 0., 0., 0., 0., 0., 0., 0., 0., 0.,\n",
       "        0., 0., 0., 0., 0., 0., 0., 0., 0., 0., 0., 0., 0., 0.],\n",
       "       [0., 0., 0., 0., 0., 0., 0., 0., 0., 0., 0., 0., 0., 0., 0., 0.,\n",
       "        0., 0., 0., 0., 0., 0., 0., 0., 0., 1., 0., 0., 0., 0., 0., 0.,\n",
       "        0., 0., 0., 0., 0., 0., 0., 0., 0., 0., 0., 0., 0., 0.],\n",
       "       [0., 0., 0., 0., 0., 0., 0., 0., 0., 0., 0., 0., 0., 0., 0., 0.,\n",
       "        0., 0., 0., 0., 0., 0., 0., 0., 0., 0., 0., 0., 0., 0., 0., 0.,\n",
       "        0., 0., 0., 0., 1., 0., 0., 0., 0., 0., 0., 0., 0., 0.],\n",
       "       [0., 0., 0., 0., 0., 0., 0., 0., 0., 0., 0., 0., 0., 0., 0., 0.,\n",
       "        0., 0., 0., 0., 0., 0., 0., 0., 0., 0., 0., 1., 0., 0., 0., 0.,\n",
       "        0., 0., 0., 0., 0., 0., 0., 0., 0., 0., 0., 0., 0., 0.],\n",
       "       [0., 0., 0., 0., 0., 0., 0., 0., 0., 0., 0., 0., 0., 0., 0., 0.,\n",
       "        0., 0., 0., 0., 0., 0., 0., 0., 0., 0., 0., 0., 1., 0., 0., 0.,\n",
       "        0., 0., 0., 0., 0., 0., 0., 0., 0., 0., 0., 0., 0., 0.],\n",
       "       [0., 0., 0., 0., 0., 0., 0., 0., 0., 0., 0., 0., 0., 0., 0., 0.,\n",
       "        0., 0., 0., 0., 0., 0., 0., 0., 0., 0., 0., 0., 0., 1., 0., 0.,\n",
       "        0., 0., 0., 0., 0., 0., 0., 0., 0., 0., 0., 0., 0., 0.],\n",
       "       [0., 0., 0., 0., 0., 0., 0., 0., 0., 0., 0., 0., 0., 0., 0., 0.,\n",
       "        0., 0., 0., 0., 0., 0., 0., 0., 0., 0., 0., 0., 0., 0., 0., 0.,\n",
       "        0., 0., 0., 0., 0., 0., 0., 0., 0., 0., 0., 1., 0., 0.]],\n",
       "      dtype=float32)"
      ]
     },
     "execution_count": 28,
     "metadata": {},
     "output_type": "execute_result"
    }
   ],
   "source": [
    "## 8. Generate training data\n",
    "alphabets = {'a':0, 'b':1, 'c':2, 'd':3, 'e':4, 'f':5, 'g':6, 'h':7, 'i':8, 'j':9, 'k':10, 'l':11, 'm':12, 'n':13, 'o':14,\n",
    "            'p':15, 'q':16, 'r':17, 's':18, 't':19, 'u':20, 'v':21, 'w':22, 'x':23, 'y':24, 'z':25, \n",
    "            '0':26, '1':27, '2':28, '3':29, '4':30, '5':31, '6':32, '7':33, '8':34, '9':35, \n",
    "            ' ':36, ',':37, '.':38, ':':39, ';':40, '\"':41, \"'\":42, '':43, '(':44, ')':45} #43 = unknown symbol\n",
    "\n",
    "idxs = [alphabets[ch] if ch in alphabets else 43 for ch in 'az 123#']\n",
    "\n",
    "idxs\n",
    "\n",
    "#one_hot = tf.one_hot(idxs, depth=len(alphabets), dtype=tf.uint8)\n",
    "\n",
    "#sess = tf.InteractiveSession()\n",
    "#one_hot.eval()\n",
    "one_hot = to_categorical(idxs, num_classes = len(alphabets))\n",
    "one_hot"
   ]
  },
  {
   "cell_type": "code",
   "execution_count": 29,
   "metadata": {},
   "outputs": [],
   "source": [
    "sentences_idxs = []\n",
    "for i in range(len(sentences)):\n",
    "    idx = []\n",
    "    for j in sentences[i]:\n",
    "        if j in alphabets:\n",
    "            idx += [alphabets[j]]\n",
    "        else:\n",
    "            idx += [43]\n",
    "    sentences_idxs.append(idx)\n",
    "    \n",
    "#sentences_onehot = [tf.one_hot(sentences_idxs[i], depth=len(alphabets), dtype=tf.uint8) for i in range(len(sentences_idxs))]"
   ]
  },
  {
   "cell_type": "markdown",
   "metadata": {},
   "source": [
    "## 9. Get first 10K observations for test purposes"
   ]
  },
  {
   "cell_type": "code",
   "execution_count": 30,
   "metadata": {},
   "outputs": [],
   "source": [
    "#sentences_onehot = [tf.one_hot(sentences_idxs[i], depth=len(alphabets), dtype=tf.uint8) for i in range(10000)]\n",
    "sentences_onehot = [to_categorical(sentences_idxs[i], num_classes = len(alphabets)) for i in range(100000)]\n",
    "sentences = sentences[0:100000]"
   ]
  },
  {
   "cell_type": "code",
   "execution_count": 31,
   "metadata": {},
   "outputs": [
    {
     "name": "stdout",
     "output_type": "stream",
     "text": [
      "46\n",
      "100000\n"
     ]
    }
   ],
   "source": [
    "# Generate the data examples\n",
    "# X and Y are identical for the test purposes\n",
    "\n",
    "data = pd.DataFrame(\n",
    "    {'X': sentences_onehot,\n",
    "     'Y': sentences\n",
    "    })\n",
    "\n",
    "print(len(sentences_onehot[100][0]))\n",
    "print(len(sentences_onehot))"
   ]
  },
  {
   "cell_type": "markdown",
   "metadata": {},
   "source": [
    "## 11. Initialize the DeepSpeech NN to train"
   ]
  },
  {
   "cell_type": "markdown",
   "metadata": {},
   "source": [
    "<p>The original DeepSpeech paper uses the language model on top of the RNN (p. 4), see: https://arxiv.org/pdf/1412.5567.pdf</p>\n",
    "<p>I have disabled the language model in file: <i>report.py (67)</i>, because the \"KENLM\" package is hard to install on Windows. For this purpose, we need to train a new model, especially for Danish language.</p>"
   ]
  },
  {
   "cell_type": "code",
   "execution_count": 15,
   "metadata": {},
   "outputs": [],
   "source": [
    "#####################################################\n",
    "\n",
    "import os\n",
    "\n",
    "import keras\n",
    "from keras.callbacks import TensorBoard\n",
    "from keras.optimizers import Adam, Nadam\n",
    "\n",
    "#from KerasDeepSpeech.data import combine_all_wavs_and_trans_from_csvs\n",
    "from KerasDeepSpeech.generator import BatchGenerator\n",
    "from KerasDeepSpeech.model import *\n",
    "from KerasDeepSpeech.report import ReportCallback\n",
    "from KerasDeepSpeech.utils import load_model_checkpoint, save_model, MemoryCallback\n",
    "\n",
    "#####################################################\n",
    "\n",
    "\n",
    "#######################################################\n",
    "\n",
    "# Prevent pool_allocator message\n",
    "os.environ['TF_CPP_MIN_LOG_LEVEL'] = '3'\n",
    "\n",
    "#######################################################\n",
    "\n",
    "\n",
    "def main(args):\n",
    "    '''\n",
    "    There are 5 simple steps to this program\n",
    "    '''\n",
    "\n",
    "    #1. combine all data into 2 dataframes (train, valid)\n",
    "    print(\"Getting data from arguments\")\n",
    "    #train_dataprops, df_train = combine_all_wavs_and_trans_from_csvs(args.train_files, sortagrad=args.sortagrad)\n",
    "    #valid_dataprops, df_valid = combine_all_wavs_and_trans_from_csvs(args.valid_files, sortagrad=args.sortagrad)\n",
    "\n",
    "    train_ratio = 0.9 #90% of data used for training, 10% for validation\n",
    "    args.model_arch = 0\n",
    "    args.opt = \"adam\"\n",
    "    args.train_steps = 0\n",
    "    args.epochs = 10\n",
    "    args.valid_steps = 0\n",
    "    args.batchsize = 32 #was 16\n",
    "    args.name = \"\"\n",
    "    args.loadcheckpointpath = \"\"\n",
    "    args.fc_size = 512\n",
    "    args.rnn_size = 512\n",
    "    args.learning_rate = 0.01\n",
    "    args.memcheck = False\n",
    "    args.tensorboard = True\n",
    "    \n",
    "    model_input_type = \"text\"\n",
    "    \n",
    "    \n",
    "    df_train = data[0:int(train_ratio * len(sentences_onehot))]\n",
    "    df_valid = data[int(train_ratio * len(sentences_onehot)):]\n",
    "\n",
    "\n",
    "    ## 2. init data generators\n",
    "    print(\"Creating data batch generators\")\n",
    "    traindata = BatchGenerator(dataframe=df_train, dataproperties=None,\n",
    "                              training=True, batch_size=args.batchsize, model_input_type=model_input_type)\n",
    "    validdata = BatchGenerator(dataframe=df_valid, dataproperties=None,\n",
    "                              training=False, batch_size=args.batchsize, model_input_type=model_input_type)\n",
    "\n",
    "\n",
    "\n",
    "\n",
    "    output_dir = os.path.join('checkpoints/results',\n",
    "                                  'model%s_%s' % (args.model_arch,\n",
    "                                             args.name))\n",
    "    if not os.path.isdir(output_dir):\n",
    "        os.makedirs(output_dir)\n",
    "\n",
    "\n",
    "    ## 3. Load existing or create new model\n",
    "    if args.loadcheckpointpath:\n",
    "        # load existing\n",
    "        print(\"Loading model\")\n",
    "\n",
    "        cp = args.loadcheckpointpath\n",
    "        assert(os.path.isdir(cp))\n",
    "\n",
    "        model_path = os.path.join(cp, \"model\")\n",
    "        # assert(os.path.isfile(model_path))\n",
    "\n",
    "        model = load_model_checkpoint(model_path)\n",
    "\n",
    "\n",
    "        print(\"Model loaded\")\n",
    "    else:\n",
    "        # new model recipes here\n",
    "        print('New model DS{}'.format(args.model_arch))\n",
    "        if (args.model_arch == 0):\n",
    "            # DeepSpeech1 with Dropout\n",
    "            model = ds1_dropout(input_dim=len(alphabets), fc_size=args.fc_size, rnn_size=args.rnn_size,dropout=[0.1,0.1,0.1], output_dim=len(alphabets) + 1)\n",
    "\n",
    "        elif(args.model_arch==1):\n",
    "            # DeepSpeech1 - no dropout\n",
    "            model = ds1(input_dim=26, fc_size=args.fc_size, rnn_size=args.rnn_size, output_dim=29)\n",
    "\n",
    "        elif(args.model_arch==2):\n",
    "            # DeepSpeech2 model\n",
    "            model = ds2_gru_model(input_dim=161, fc_size=args.fc_size, rnn_size=args.rnn_size, output_dim=29)\n",
    "\n",
    "        elif(args.model_arch==3):\n",
    "            # own model\n",
    "            model = ownModel(input_dim=26, fc_size=args.fc_size, rnn_size=args.rnn_size, dropout=[0.1, 0.1, 0.1], output_dim=29)\n",
    "\n",
    "        elif(args.model_arch==4):\n",
    "            # graves model\n",
    "            model = graves(input_dim=26, rnn_size=args.rnn_size, output_dim=29, std=0.5)\n",
    "\n",
    "        elif(args.model_arch==5):\n",
    "            #cnn city\n",
    "            model = cnn_city(input_dim=161, fc_size=args.fc_size, rnn_size=args.rnn_size, output_dim=29)\n",
    "\n",
    "        elif(args.model_arch == 6):\n",
    "            # constrained model\n",
    "            model = const(input_dim=26, fc_size=args.fc_size, rnn_size=args.rnn_size, output_dim=29)\n",
    "        else:\n",
    "            raise(\"model not found\")\n",
    "\n",
    "        print(model.summary(line_length=80))\n",
    "\n",
    "        #required to save the JSON\n",
    "        save_model(model, output_dir)\n",
    "\n",
    "    if (args.opt.lower() == 'sgd'):\n",
    "        opt = SGD(lr=args.learning_rate, decay=1e-6, momentum=0.9, nesterov=True, clipnorm=5)\n",
    "    elif (args.opt.lower() == 'adam'):\n",
    "        opt = Adam(lr=args.learning_rate, beta_1=0.9, beta_2=0.999, epsilon=1e-8, clipnorm=5)\n",
    "    elif (args.opt.lower() == 'nadam'):\n",
    "        opt = Nadam(lr=args.learning_rate, beta_1=0.9, beta_2=0.999, epsilon=1e-8, clipnorm=5)\n",
    "    else:\n",
    "        raise \"optimiser not recognised\"\n",
    "\n",
    "    model.compile(optimizer=opt, loss=ctc)\n",
    "\n",
    "    ## 4. train\n",
    "\n",
    "    if args.train_steps == 0:\n",
    "        args.train_steps = len(df_train.index) // args.batchsize\n",
    "        # print(args.train_steps)\n",
    "    # we use 1/xth of the validation data at each epoch end to test val score\n",
    "    if args.valid_steps == 0:\n",
    "\n",
    "        args.valid_steps = (len(df_valid.index) // args.batchsize)\n",
    "        # print(args.valid_steps)\n",
    "\n",
    "\n",
    "    if args.memcheck:\n",
    "        cb_list = [MemoryCallback()]\n",
    "    else:\n",
    "        cb_list = []\n",
    "\n",
    "    if args.tensorboard:\n",
    "        tb_cb = TensorBoard(log_dir='./tensorboard/{}/'.format(args.name), write_graph=False, write_images=True)\n",
    "        cb_list.append(tb_cb)\n",
    "\n",
    "    y_pred = model.get_layer('ctc').input[0]\n",
    "    input_data = model.get_layer('the_input').input\n",
    "\n",
    "    report = K.function([input_data, K.learning_phase()], [y_pred])\n",
    "    report_cb = ReportCallback(report, validdata, model, args.name, save=True)\n",
    "\n",
    "    cb_list.append(report_cb)\n",
    "\n",
    "    model.fit_generator(generator=traindata.next_batch(),\n",
    "                        steps_per_epoch=args.train_steps,\n",
    "                        epochs=args.epochs,\n",
    "                        callbacks=cb_list,\n",
    "                        validation_data=validdata.next_batch(),\n",
    "                        validation_steps=args.valid_steps,\n",
    "                        initial_epoch=0,\n",
    "                        verbose=1,\n",
    "                        class_weight=None,\n",
    "                        max_q_size=10,\n",
    "                        workers=1,\n",
    "                        pickle_safe=False\n",
    "                        )\n",
    "\n",
    "    # K.clear_session()\n",
    "\n",
    "    ## These are the most important metrics\n",
    "    print(\"Mean WER   :\", report_cb.mean_wer_log)\n",
    "    print(\"Mean LER   :\", report_cb.mean_ler_log)\n",
    "    print(\"NormMeanLER:\", report_cb.norm_mean_ler_log)\n",
    "\n",
    "    # export to csv?\n",
    "    K.clear_session()"
   ]
  },
  {
   "cell_type": "code",
   "execution_count": 16,
   "metadata": {},
   "outputs": [],
   "source": [
    "class Object(object):\n",
    "    pass\n",
    "\n",
    "args = Object()"
   ]
  },
  {
   "cell_type": "code",
   "execution_count": null,
   "metadata": {},
   "outputs": [
    {
     "name": "stdout",
     "output_type": "stream",
     "text": [
      "Getting data from arguments\n",
      "Creating data batch generators\n",
      "New model DS0\n",
      "________________________________________________________________________________\n",
      "Layer (type)              Output Shape      Param #  Connected to               \n",
      "================================================================================\n",
      "the_input (InputLayer)    (None, None, 46)  0                                   \n",
      "________________________________________________________________________________\n",
      "time_distributed_8 (TimeD (None, None, 512) 24064    the_input[0][0]            \n",
      "________________________________________________________________________________\n",
      "time_distributed_9 (TimeD (None, None, 512) 0        time_distributed_8[0][0]   \n",
      "________________________________________________________________________________\n",
      "time_distributed_10 (Time (None, None, 512) 262656   time_distributed_9[0][0]   \n",
      "________________________________________________________________________________\n",
      "time_distributed_11 (Time (None, None, 512) 0        time_distributed_10[0][0]  \n",
      "________________________________________________________________________________\n",
      "time_distributed_12 (Time (None, None, 512) 262656   time_distributed_11[0][0]  \n",
      "________________________________________________________________________________\n",
      "time_distributed_13 (Time (None, None, 512) 0        time_distributed_12[0][0]  \n",
      "________________________________________________________________________________\n",
      "bidirectional_2 (Bidirect (None, None, 512) 4198400  time_distributed_13[0][0]  \n",
      "________________________________________________________________________________\n",
      "time_distributed_14 (Time (None, None, 512) 0        bidirectional_2[0][0]      \n",
      "________________________________________________________________________________\n",
      "out (TimeDistributed)     (None, None, 47)  24111    time_distributed_14[0][0]  \n",
      "________________________________________________________________________________\n",
      "the_labels (InputLayer)   (None, None)      0                                   \n",
      "________________________________________________________________________________\n",
      "input_length (InputLayer) (None, 1)         0                                   \n",
      "________________________________________________________________________________\n",
      "label_length (InputLayer) (None, 1)         0                                   \n",
      "________________________________________________________________________________\n",
      "ctc (Lambda)              (None, 1)         0        out[0][0]                  \n",
      "                                                     the_labels[0][0]           \n",
      "                                                     input_length[0][0]         \n",
      "                                                     label_length[0][0]         \n",
      "================================================================================\n",
      "Total params: 4,771,887\n",
      "Trainable params: 4,771,887\n",
      "Non-trainable params: 0\n",
      "________________________________________________________________________________\n",
      "None\n",
      "Saving model at: checkpoints/results\\model0_/model.json checkpoints/results\\model0_/model.h5\n",
      "Epoch 1/10\n"
     ]
    },
    {
     "name": "stdout",
     "output_type": "stream",
     "text": [
      " 340/2812 [==>...........................] - ETA: 1:47:56 - loss: in - ETA: 1:01:56 - loss: in - ETA: 46:23 - loss: inf  - ETA: 39:29 - loss: in - ETA: 34:34 - loss: in - ETA: 31:26 - loss: in - ETA: 29:01 - loss: in - ETA: 27:18 - loss: in - ETA: 25:59 - loss: in - ETA: 25:06 - loss: in - ETA: 24:18 - loss: in - ETA: 23:37 - loss: in - ETA: 23:01 - loss: in - ETA: 22:30 - loss: in - ETA: 21:59 - loss: in - ETA: 21:34 - loss: in - ETA: 21:12 - loss: in - ETA: 20:52 - loss: in - ETA: 20:34 - loss: in - ETA: 20:19 - loss: in - ETA: 20:03 - loss: in - ETA: 19:50 - loss: in - ETA: 19:40 - loss: in - ETA: 19:31 - loss: in - ETA: 19:22 - loss: in - ETA: 19:14 - loss: in - ETA: 19:09 - loss: in - ETA: 19:00 - loss: in - ETA: 18:53 - loss: in - ETA: 18:43 - loss: in - ETA: 18:36 - loss: in - ETA: 18:28 - loss: in - ETA: 18:21 - loss: in - ETA: 18:16 - loss: in - ETA: 18:10 - loss: in - ETA: 18:05 - loss: in - ETA: 18:00 - loss: in - ETA: 17:56 - loss: in - ETA: 17:52 - loss: in - ETA: 17:47 - loss: in - ETA: 17:43 - loss: in - ETA: 17:38 - loss: in - ETA: 17:32 - loss: in - ETA: 17:29 - loss: in - ETA: 17:25 - loss: in - ETA: 17:22 - loss: in - ETA: 17:20 - loss: in - ETA: 17:16 - loss: in - ETA: 17:13 - loss: in - ETA: 17:10 - loss: in - ETA: 17:07 - loss: in - ETA: 17:04 - loss: in - ETA: 17:00 - loss: in - ETA: 16:57 - loss: in - ETA: 16:55 - loss: in - ETA: 16:52 - loss: in - ETA: 16:50 - loss: in - ETA: 16:48 - loss: in - ETA: 16:47 - loss: in - ETA: 16:45 - loss: in - ETA: 16:44 - loss: in - ETA: 16:43 - loss: in - ETA: 16:41 - loss: in - ETA: 16:38 - loss: in - ETA: 16:37 - loss: in - ETA: 16:35 - loss: in - ETA: 16:33 - loss: in - ETA: 16:31 - loss: in - ETA: 16:30 - loss: in - ETA: 16:29 - loss: in - ETA: 16:27 - loss: in - ETA: 16:25 - loss: in - ETA: 16:24 - loss: in - ETA: 16:22 - loss: in - ETA: 16:21 - loss: in - ETA: 16:20 - loss: in - ETA: 16:17 - loss: in - ETA: 16:16 - loss: in - ETA: 16:14 - loss: in - ETA: 16:13 - loss: in - ETA: 16:11 - loss: in - ETA: 16:10 - loss: in - ETA: 16:09 - loss: in - ETA: 16:08 - loss: in - ETA: 16:07 - loss: in - ETA: 16:06 - loss: in - ETA: 16:05 - loss: in - ETA: 16:04 - loss: in - ETA: 16:02 - loss: in - ETA: 16:02 - loss: in - ETA: 16:01 - loss: in - ETA: 16:00 - loss: in - ETA: 15:59 - loss: in - ETA: 15:58 - loss: in - ETA: 15:57 - loss: in - ETA: 15:57 - loss: in - ETA: 15:56 - loss: in - ETA: 15:55 - loss: in - ETA: 15:54 - loss: in - ETA: 15:53 - loss: in - ETA: 15:53 - loss: in - ETA: 15:52 - loss: in - ETA: 15:51 - loss: in - ETA: 15:50 - loss: in - ETA: 15:50 - loss: in - ETA: 15:49 - loss: in - ETA: 15:47 - loss: in - ETA: 15:46 - loss: in - ETA: 15:46 - loss: in - ETA: 15:45 - loss: in - ETA: 15:44 - loss: in - ETA: 15:43 - loss: in - ETA: 15:43 - loss: in - ETA: 15:42 - loss: in - ETA: 15:41 - loss: in - ETA: 15:40 - loss: in - ETA: 15:39 - loss: in - ETA: 15:38 - loss: in - ETA: 15:37 - loss: in - ETA: 15:36 - loss: in - ETA: 15:36 - loss: in - ETA: 15:35 - loss: in - ETA: 15:34 - loss: in - ETA: 15:33 - loss: in - ETA: 15:32 - loss: in - ETA: 15:31 - loss: in - ETA: 15:30 - loss: in - ETA: 15:30 - loss: in - ETA: 15:29 - loss: in - ETA: 15:28 - loss: in - ETA: 15:27 - loss: in - ETA: 15:26 - loss: in - ETA: 15:25 - loss: in - ETA: 15:24 - loss: in - ETA: 15:24 - loss: in - ETA: 15:23 - loss: in - ETA: 15:22 - loss: in - ETA: 15:21 - loss: in - ETA: 15:20 - loss: in - ETA: 15:20 - loss: in - ETA: 15:20 - loss: in - ETA: 15:19 - loss: in - ETA: 15:19 - loss: in - ETA: 15:19 - loss: in - ETA: 15:18 - loss: in - ETA: 15:18 - loss: in - ETA: 15:17 - loss: in - ETA: 15:17 - loss: in - ETA: 15:16 - loss: in - ETA: 15:16 - loss: in - ETA: 15:15 - loss: in - ETA: 15:14 - loss: in - ETA: 15:14 - loss: in - ETA: 15:13 - loss: in - ETA: 15:13 - loss: in - ETA: 15:12 - loss: in - ETA: 15:12 - loss: in - ETA: 15:11 - loss: in - ETA: 15:11 - loss: in - ETA: 15:09 - loss: in - ETA: 15:08 - loss: in - ETA: 15:08 - loss: in - ETA: 15:07 - loss: in - ETA: 15:07 - loss: in - ETA: 15:07 - loss: in - ETA: 15:06 - loss: in - ETA: 15:06 - loss: in - ETA: 15:05 - loss: in - ETA: 15:05 - loss: in - ETA: 15:04 - loss: in - ETA: 15:04 - loss: in - ETA: 15:03 - loss: in - ETA: 15:03 - loss: in - ETA: 15:03 - loss: in - ETA: 15:03 - loss: in - ETA: 15:02 - loss: in - ETA: 15:02 - loss: in - ETA: 15:01 - loss: in - ETA: 15:01 - loss: in - ETA: 15:00 - loss: in - ETA: 15:00 - loss: in - ETA: 14:59 - loss: in - ETA: 14:59 - loss: in - ETA: 14:58 - loss: in - ETA: 14:58 - loss: in - ETA: 14:57 - loss: in - ETA: 14:57 - loss: in - ETA: 14:56 - loss: in - ETA: 14:55 - loss: in - ETA: 14:55 - loss: in - ETA: 14:54 - loss: in - ETA: 14:54 - loss: in - ETA: 14:53 - loss: in - ETA: 14:53 - loss: in - ETA: 14:51 - loss: in - ETA: 14:51 - loss: in - ETA: 14:50 - loss: in - ETA: 14:49 - loss: in - ETA: 14:49 - loss: in - ETA: 14:48 - loss: in - ETA: 14:48 - loss: in - ETA: 14:47 - loss: in - ETA: 14:47 - loss: in - ETA: 14:47 - loss: in - ETA: 14:47 - loss: in - ETA: 14:46 - loss: in - ETA: 14:46 - loss: in - ETA: 14:46 - loss: in - ETA: 14:45 - loss: in - ETA: 14:45 - loss: in - ETA: 14:45 - loss: in - ETA: 14:44 - loss: in - ETA: 14:44 - loss: in - ETA: 14:43 - loss: in - ETA: 14:43 - loss: in - ETA: 14:42 - loss: in - ETA: 14:42 - loss: in - ETA: 14:41 - loss: in - ETA: 14:41 - loss: in - ETA: 14:41 - loss: in - ETA: 14:40 - loss: in - ETA: 14:40 - loss: in - ETA: 14:40 - loss: in - ETA: 14:40 - loss: in - ETA: 14:40 - loss: in - ETA: 14:39 - loss: in - ETA: 14:39 - loss: in - ETA: 14:39 - loss: in - ETA: 14:39 - loss: in - ETA: 14:40 - loss: in - ETA: 14:39 - loss: in - ETA: 14:39 - loss: in - ETA: 14:39 - loss: in - ETA: 14:39 - loss: in - ETA: 14:38 - loss: in - ETA: 14:38 - loss: in - ETA: 14:38 - loss: in - ETA: 14:37 - loss: in - ETA: 14:37 - loss: in - ETA: 14:36 - loss: in - ETA: 14:36 - loss: in - ETA: 14:35 - loss: in - ETA: 14:35 - loss: in - ETA: 14:35 - loss: in - ETA: 14:34 - loss: in - ETA: 14:33 - loss: in - ETA: 14:33 - loss: in - ETA: 14:32 - loss: in - ETA: 14:32 - loss: in - ETA: 14:32 - loss: in - ETA: 14:31 - loss: in - ETA: 14:31 - loss: in - ETA: 14:30 - loss: in - ETA: 14:30 - loss: in - ETA: 14:30 - loss: in - ETA: 14:30 - loss: in - ETA: 14:29 - loss: in - ETA: 14:29 - loss: in - ETA: 14:29 - loss: in - ETA: 14:29 - loss: in - ETA: 14:29 - loss: in - ETA: 14:28 - loss: in - ETA: 14:28 - loss: in - ETA: 14:27 - loss: in - ETA: 14:27 - loss: in - ETA: 14:27 - loss: in - ETA: 14:26 - loss: in - ETA: 14:26 - loss: in - ETA: 14:25 - loss: in - ETA: 14:25 - loss: in - ETA: 14:24 - loss: in - ETA: 14:24 - loss: in - ETA: 14:23 - loss: in - ETA: 14:23 - loss: in - ETA: 14:22 - loss: in - ETA: 14:22 - loss: in - ETA: 14:21 - loss: in - ETA: 14:21 - loss: in - ETA: 14:20 - loss: in - ETA: 14:20 - loss: in - ETA: 14:20 - loss: in - ETA: 14:19 - loss: in - ETA: 14:19 - loss: in - ETA: 14:18 - loss: in - ETA: 14:18 - loss: in - ETA: 14:17 - loss: in - ETA: 14:17 - loss: in - ETA: 14:16 - loss: in - ETA: 14:16 - loss: in - ETA: 14:15 - loss: in - ETA: 14:15 - loss: in - ETA: 14:14 - loss: in - ETA: 14:14 - loss: in - ETA: 14:14 - loss: in - ETA: 14:13 - loss: in - ETA: 14:13 - loss: in - ETA: 14:12 - loss: in - ETA: 14:12 - loss: in - ETA: 14:11 - loss: in - ETA: 14:12 - loss: in - ETA: 14:11 - loss: in - ETA: 14:11 - loss: in - ETA: 14:11 - loss: in - ETA: 14:10 - loss: in - ETA: 14:10 - loss: in - ETA: 14:10 - loss: in - ETA: 14:09 - loss: in - ETA: 14:09 - loss: in - ETA: 14:09 - loss: in - ETA: 14:08 - loss: in - ETA: 14:08 - loss: in - ETA: 14:07 - loss: in - ETA: 14:07 - loss: in - ETA: 14:06 - loss: in - ETA: 14:05 - loss: in - ETA: 14:05 - loss: in - ETA: 14:05 - loss: in - ETA: 14:04 - loss: in - ETA: 14:04 - loss: in - ETA: 14:03 - loss: in - ETA: 14:03 - loss: in - ETA: 14:03 - loss: in - ETA: 14:02 - loss: in - ETA: 14:01 - loss: in - ETA: 14:01 - loss: in - ETA: 14:01 - loss: in - ETA: 14:00 - loss: in - ETA: 14:00 - loss: in - ETA: 13:59 - loss: in - ETA: 13:59 - loss: in - ETA: 13:58 - loss: in - ETA: 13:58 - loss: in - ETA: 13:57 - loss: in - ETA: 13:57 - loss: in - ETA: 13:56 - loss: in - ETA: 13:56 - loss: in - ETA: 13:55 - loss: in - ETA: 13:55 - loss: in - ETA: 13:55 - loss: in - ETA: 13:54 - loss: inf"
     ]
    },
    {
     "name": "stdout",
     "output_type": "stream",
     "text": [
      " 680/2812 [======>.......................] - ETA: 13:54 - loss: in - ETA: 13:54 - loss: in - ETA: 13:53 - loss: in - ETA: 13:53 - loss: in - ETA: 13:52 - loss: in - ETA: 13:52 - loss: in - ETA: 13:51 - loss: in - ETA: 13:51 - loss: in - ETA: 13:51 - loss: in - ETA: 13:50 - loss: in - ETA: 13:50 - loss: in - ETA: 13:49 - loss: in - ETA: 13:49 - loss: in - ETA: 13:49 - loss: in - ETA: 13:48 - loss: in - ETA: 13:48 - loss: in - ETA: 13:47 - loss: in - ETA: 13:47 - loss: in - ETA: 13:47 - loss: in - ETA: 13:46 - loss: in - ETA: 13:46 - loss: in - ETA: 13:45 - loss: in - ETA: 13:45 - loss: in - ETA: 13:45 - loss: in - ETA: 13:44 - loss: in - ETA: 13:44 - loss: in - ETA: 13:43 - loss: in - ETA: 13:43 - loss: in - ETA: 13:42 - loss: in - ETA: 13:42 - loss: in - ETA: 13:42 - loss: in - ETA: 13:41 - loss: in - ETA: 13:41 - loss: in - ETA: 13:41 - loss: in - ETA: 13:40 - loss: in - ETA: 13:40 - loss: in - ETA: 13:39 - loss: in - ETA: 13:39 - loss: in - ETA: 13:38 - loss: in - ETA: 13:38 - loss: in - ETA: 13:37 - loss: in - ETA: 13:37 - loss: in - ETA: 13:36 - loss: in - ETA: 13:36 - loss: in - ETA: 13:35 - loss: in - ETA: 13:35 - loss: in - ETA: 13:34 - loss: in - ETA: 13:34 - loss: in - ETA: 13:34 - loss: in - ETA: 13:33 - loss: in - ETA: 13:33 - loss: in - ETA: 13:32 - loss: in - ETA: 13:32 - loss: in - ETA: 13:32 - loss: in - ETA: 13:31 - loss: in - ETA: 13:31 - loss: in - ETA: 13:31 - loss: in - ETA: 13:30 - loss: in - ETA: 13:30 - loss: in - ETA: 13:30 - loss: in - ETA: 13:29 - loss: in - ETA: 13:29 - loss: in - ETA: 13:29 - loss: in - ETA: 13:28 - loss: in - ETA: 13:28 - loss: in - ETA: 13:28 - loss: in - ETA: 13:27 - loss: in - ETA: 13:27 - loss: in - ETA: 13:26 - loss: in - ETA: 13:26 - loss: in - ETA: 13:26 - loss: in - ETA: 13:25 - loss: in - ETA: 13:25 - loss: in - ETA: 13:24 - loss: in - ETA: 13:24 - loss: in - ETA: 13:23 - loss: in - ETA: 13:23 - loss: in - ETA: 13:23 - loss: in - ETA: 13:22 - loss: in - ETA: 13:22 - loss: in - ETA: 13:21 - loss: in - ETA: 13:21 - loss: in - ETA: 13:20 - loss: in - ETA: 13:20 - loss: in - ETA: 13:19 - loss: in - ETA: 13:19 - loss: in - ETA: 13:19 - loss: in - ETA: 13:18 - loss: in - ETA: 13:18 - loss: in - ETA: 13:18 - loss: in - ETA: 13:17 - loss: in - ETA: 13:17 - loss: in - ETA: 13:17 - loss: in - ETA: 13:17 - loss: in - ETA: 13:16 - loss: in - ETA: 13:16 - loss: in - ETA: 13:15 - loss: in - ETA: 13:15 - loss: in - ETA: 13:14 - loss: in - ETA: 13:14 - loss: in - ETA: 13:13 - loss: in - ETA: 13:13 - loss: in - ETA: 13:13 - loss: in - ETA: 13:12 - loss: in - ETA: 13:12 - loss: in - ETA: 13:12 - loss: in - ETA: 13:12 - loss: in - ETA: 13:12 - loss: in - ETA: 13:12 - loss: in - ETA: 13:11 - loss: in - ETA: 13:11 - loss: in - ETA: 13:11 - loss: in - ETA: 13:11 - loss: in - ETA: 13:10 - loss: in - ETA: 13:10 - loss: in - ETA: 13:10 - loss: in - ETA: 13:10 - loss: in - ETA: 13:09 - loss: in - ETA: 13:09 - loss: in - ETA: 13:09 - loss: in - ETA: 13:09 - loss: in - ETA: 13:08 - loss: in - ETA: 13:08 - loss: in - ETA: 13:07 - loss: in - ETA: 13:07 - loss: in - ETA: 13:07 - loss: in - ETA: 13:06 - loss: in - ETA: 13:06 - loss: in - ETA: 13:06 - loss: in - ETA: 13:05 - loss: in - ETA: 13:05 - loss: in - ETA: 13:05 - loss: in - ETA: 13:04 - loss: in - ETA: 13:04 - loss: in - ETA: 13:03 - loss: in - ETA: 13:03 - loss: in - ETA: 13:03 - loss: in - ETA: 13:02 - loss: in - ETA: 13:02 - loss: in - ETA: 13:02 - loss: in - ETA: 13:01 - loss: in - ETA: 13:01 - loss: in - ETA: 13:01 - loss: in - ETA: 13:00 - loss: in - ETA: 13:00 - loss: in - ETA: 13:00 - loss: in - ETA: 12:59 - loss: in - ETA: 12:59 - loss: in - ETA: 12:59 - loss: in - ETA: 12:58 - loss: in - ETA: 12:58 - loss: in - ETA: 12:58 - loss: in - ETA: 12:57 - loss: in - ETA: 12:57 - loss: in - ETA: 12:57 - loss: in - ETA: 12:57 - loss: in - ETA: 12:56 - loss: in - ETA: 12:56 - loss: in - ETA: 12:56 - loss: in - ETA: 12:55 - loss: in - ETA: 12:55 - loss: in - ETA: 12:55 - loss: in - ETA: 12:54 - loss: in - ETA: 12:54 - loss: in - ETA: 12:54 - loss: in - ETA: 12:54 - loss: in - ETA: 12:53 - loss: in - ETA: 12:53 - loss: in - ETA: 12:53 - loss: in - ETA: 12:52 - loss: in - ETA: 12:52 - loss: in - ETA: 12:52 - loss: in - ETA: 12:52 - loss: in - ETA: 12:52 - loss: in - ETA: 12:51 - loss: in - ETA: 12:51 - loss: in - ETA: 12:51 - loss: in - ETA: 12:51 - loss: in - ETA: 12:51 - loss: in - ETA: 12:51 - loss: in - ETA: 12:50 - loss: in - ETA: 12:50 - loss: in - ETA: 12:50 - loss: in - ETA: 12:50 - loss: in - ETA: 12:50 - loss: in - ETA: 12:49 - loss: in - ETA: 12:49 - loss: in - ETA: 12:49 - loss: in - ETA: 12:49 - loss: in - ETA: 12:48 - loss: in - ETA: 12:48 - loss: in - ETA: 12:47 - loss: in - ETA: 12:47 - loss: in - ETA: 12:47 - loss: in - ETA: 12:46 - loss: in - ETA: 12:46 - loss: in - ETA: 12:46 - loss: in - ETA: 12:45 - loss: in - ETA: 12:45 - loss: in - ETA: 12:45 - loss: in - ETA: 12:44 - loss: in - ETA: 12:44 - loss: in - ETA: 12:44 - loss: in - ETA: 12:43 - loss: in - ETA: 12:43 - loss: in - ETA: 12:43 - loss: in - ETA: 12:43 - loss: in - ETA: 12:43 - loss: in - ETA: 12:43 - loss: in - ETA: 12:42 - loss: in - ETA: 12:42 - loss: in - ETA: 12:42 - loss: in - ETA: 12:42 - loss: in - ETA: 12:41 - loss: in - ETA: 12:41 - loss: in - ETA: 12:41 - loss: in - ETA: 12:41 - loss: in - ETA: 12:40 - loss: in - ETA: 12:40 - loss: in - ETA: 12:40 - loss: in - ETA: 12:40 - loss: in - ETA: 12:39 - loss: in - ETA: 12:39 - loss: in - ETA: 12:39 - loss: in - ETA: 12:39 - loss: in - ETA: 12:38 - loss: in - ETA: 12:38 - loss: in - ETA: 12:38 - loss: in - ETA: 12:37 - loss: in - ETA: 12:37 - loss: in - ETA: 12:37 - loss: in - ETA: 12:37 - loss: in - ETA: 12:36 - loss: in - ETA: 12:36 - loss: in - ETA: 12:36 - loss: in - ETA: 12:36 - loss: in - ETA: 12:35 - loss: in - ETA: 12:35 - loss: in - ETA: 12:35 - loss: in - ETA: 12:35 - loss: in - ETA: 12:35 - loss: in - ETA: 12:34 - loss: in - ETA: 12:34 - loss: in - ETA: 12:34 - loss: in - ETA: 12:33 - loss: in - ETA: 12:33 - loss: in - ETA: 12:33 - loss: in - ETA: 12:34 - loss: in - ETA: 12:34 - loss: in - ETA: 12:34 - loss: in - ETA: 12:34 - loss: in - ETA: 12:34 - loss: in - ETA: 12:33 - loss: in - ETA: 12:33 - loss: in - ETA: 12:33 - loss: in - ETA: 12:44 - loss: in - ETA: 12:44 - loss: in - ETA: 12:44 - loss: in - ETA: 12:43 - loss: in - ETA: 12:43 - loss: in - ETA: 12:43 - loss: in - ETA: 12:42 - loss: in - ETA: 12:42 - loss: in - ETA: 12:42 - loss: in - ETA: 12:42 - loss: in - ETA: 12:41 - loss: in - ETA: 12:41 - loss: in - ETA: 12:41 - loss: in - ETA: 12:41 - loss: in - ETA: 12:41 - loss: in - ETA: 12:41 - loss: in - ETA: 12:40 - loss: in - ETA: 12:40 - loss: in - ETA: 12:40 - loss: in - ETA: 12:40 - loss: in - ETA: 12:39 - loss: in - ETA: 12:39 - loss: in - ETA: 12:39 - loss: in - ETA: 12:39 - loss: in - ETA: 12:38 - loss: in - ETA: 12:38 - loss: in - ETA: 12:38 - loss: in - ETA: 12:38 - loss: in - ETA: 12:38 - loss: in - ETA: 12:38 - loss: in - ETA: 12:37 - loss: in - ETA: 12:37 - loss: in - ETA: 12:37 - loss: in - ETA: 12:36 - loss: in - ETA: 12:36 - loss: in - ETA: 12:36 - loss: in - ETA: 12:35 - loss: in - ETA: 12:35 - loss: in - ETA: 12:35 - loss: in - ETA: 12:34 - loss: in - ETA: 12:34 - loss: in - ETA: 12:33 - loss: in - ETA: 12:33 - loss: in - ETA: 12:32 - loss: in - ETA: 12:32 - loss: in - ETA: 12:32 - loss: in - ETA: 12:31 - loss: in - ETA: 12:31 - loss: in - ETA: 12:31 - loss: in - ETA: 12:30 - loss: in - ETA: 12:30 - loss: in - ETA: 12:30 - loss: in - ETA: 12:29 - loss: in - ETA: 12:29 - loss: in - ETA: 12:28 - loss: in - ETA: 12:28 - loss: in - ETA: 12:28 - loss: in - ETA: 12:27 - loss: in - ETA: 12:27 - loss: in - ETA: 12:27 - loss: in - ETA: 12:26 - loss: in - ETA: 12:26 - loss: in - ETA: 12:25 - loss: in - ETA: 12:25 - loss: in - ETA: 12:24 - loss: in - ETA: 12:24 - loss: in - ETA: 12:24 - loss: in - ETA: 12:23 - loss: in - ETA: 12:23 - loss: in - ETA: 12:23 - loss: in - ETA: 12:23 - loss: in - ETA: 12:22 - loss: in - ETA: 12:22 - loss: in - ETA: 12:22 - loss: in - ETA: 12:22 - loss: in - ETA: 12:21 - loss: in - ETA: 12:21 - loss: in - ETA: 12:21 - loss: in - ETA: 12:20 - loss: in - ETA: 12:20 - loss: in - ETA: 12:20 - loss: in - ETA: 12:19 - loss: in - ETA: 12:19 - loss: in - ETA: 12:19 - loss: in - ETA: 12:18 - loss: inf"
     ]
    },
    {
     "name": "stdout",
     "output_type": "stream",
     "text": [
      "1020/2812 [=========>....................] - ETA: 12:18 - loss: in - ETA: 12:17 - loss: in - ETA: 12:17 - loss: in - ETA: 12:17 - loss: in - ETA: 12:16 - loss: in - ETA: 12:16 - loss: in - ETA: 12:15 - loss: in - ETA: 12:15 - loss: in - ETA: 12:15 - loss: in - ETA: 12:14 - loss: in - ETA: 12:14 - loss: in - ETA: 12:13 - loss: in - ETA: 12:13 - loss: in - ETA: 12:13 - loss: in - ETA: 12:12 - loss: in - ETA: 12:12 - loss: in - ETA: 12:11 - loss: in - ETA: 12:11 - loss: in - ETA: 12:11 - loss: in - ETA: 12:10 - loss: in - ETA: 12:10 - loss: in - ETA: 12:10 - loss: in - ETA: 12:09 - loss: in - ETA: 12:09 - loss: in - ETA: 12:09 - loss: in - ETA: 12:08 - loss: in - ETA: 12:08 - loss: in - ETA: 12:08 - loss: in - ETA: 12:07 - loss: in - ETA: 12:07 - loss: in - ETA: 12:07 - loss: in - ETA: 12:06 - loss: in - ETA: 12:06 - loss: in - ETA: 12:05 - loss: in - ETA: 12:05 - loss: in - ETA: 12:05 - loss: in - ETA: 12:04 - loss: in - ETA: 12:04 - loss: in - ETA: 12:03 - loss: in - ETA: 12:03 - loss: in - ETA: 12:02 - loss: in - ETA: 12:02 - loss: in - ETA: 12:01 - loss: in - ETA: 12:01 - loss: in - ETA: 12:01 - loss: in - ETA: 12:00 - loss: in - ETA: 12:00 - loss: in - ETA: 11:59 - loss: in - ETA: 11:59 - loss: in - ETA: 11:59 - loss: in - ETA: 11:58 - loss: in - ETA: 11:58 - loss: in - ETA: 11:57 - loss: in - ETA: 11:57 - loss: in - ETA: 11:57 - loss: in - ETA: 11:56 - loss: in - ETA: 11:56 - loss: in - ETA: 11:55 - loss: in - ETA: 11:55 - loss: in - ETA: 11:54 - loss: in - ETA: 11:54 - loss: in - ETA: 11:53 - loss: in - ETA: 11:53 - loss: in - ETA: 11:52 - loss: in - ETA: 11:52 - loss: in - ETA: 11:51 - loss: in - ETA: 11:51 - loss: in - ETA: 11:50 - loss: in - ETA: 11:50 - loss: in - ETA: 11:50 - loss: in - ETA: 11:49 - loss: in - ETA: 11:49 - loss: in - ETA: 11:48 - loss: in - ETA: 11:48 - loss: in - ETA: 11:48 - loss: in - ETA: 11:47 - loss: in - ETA: 11:47 - loss: in - ETA: 11:46 - loss: in - ETA: 11:46 - loss: in - ETA: 11:46 - loss: in - ETA: 11:45 - loss: in - ETA: 11:45 - loss: in - ETA: 11:44 - loss: in - ETA: 11:44 - loss: in - ETA: 11:43 - loss: in - ETA: 11:43 - loss: in - ETA: 11:43 - loss: in - ETA: 11:42 - loss: in - ETA: 11:42 - loss: in - ETA: 11:42 - loss: in - ETA: 11:41 - loss: in - ETA: 11:41 - loss: in - ETA: 11:41 - loss: in - ETA: 11:40 - loss: in - ETA: 11:40 - loss: in - ETA: 11:39 - loss: in - ETA: 11:39 - loss: in - ETA: 11:39 - loss: in - ETA: 11:38 - loss: in - ETA: 11:38 - loss: in - ETA: 11:38 - loss: in - ETA: 11:37 - loss: in - ETA: 11:37 - loss: in - ETA: 11:36 - loss: in - ETA: 11:36 - loss: in - ETA: 11:36 - loss: in - ETA: 11:35 - loss: in - ETA: 11:35 - loss: in - ETA: 11:34 - loss: in - ETA: 11:34 - loss: in - ETA: 11:34 - loss: in - ETA: 11:33 - loss: in - ETA: 11:33 - loss: in - ETA: 11:33 - loss: in - ETA: 11:32 - loss: in - ETA: 11:32 - loss: in - ETA: 11:31 - loss: in - ETA: 11:31 - loss: in - ETA: 11:31 - loss: in - ETA: 11:30 - loss: in - ETA: 11:30 - loss: in - ETA: 11:29 - loss: in - ETA: 11:29 - loss: in - ETA: 11:29 - loss: in - ETA: 11:28 - loss: in - ETA: 11:28 - loss: in - ETA: 11:27 - loss: in - ETA: 11:27 - loss: in - ETA: 11:27 - loss: in - ETA: 11:26 - loss: in - ETA: 11:26 - loss: in - ETA: 11:26 - loss: in - ETA: 11:25 - loss: in - ETA: 11:25 - loss: in - ETA: 11:25 - loss: in - ETA: 11:24 - loss: in - ETA: 11:24 - loss: in - ETA: 11:23 - loss: in - ETA: 11:23 - loss: in - ETA: 11:23 - loss: in - ETA: 11:23 - loss: in - ETA: 11:22 - loss: in - ETA: 11:22 - loss: in - ETA: 11:21 - loss: in - ETA: 11:21 - loss: in - ETA: 11:21 - loss: in - ETA: 11:20 - loss: in - ETA: 11:20 - loss: in - ETA: 11:20 - loss: in - ETA: 11:19 - loss: in - ETA: 11:19 - loss: in - ETA: 11:18 - loss: in - ETA: 11:18 - loss: in - ETA: 11:18 - loss: in - ETA: 11:17 - loss: in - ETA: 11:17 - loss: in - ETA: 11:16 - loss: in - ETA: 11:16 - loss: in - ETA: 11:16 - loss: in - ETA: 11:15 - loss: in - ETA: 11:15 - loss: in - ETA: 11:15 - loss: in - ETA: 11:14 - loss: in - ETA: 11:14 - loss: in - ETA: 11:14 - loss: in - ETA: 11:13 - loss: in - ETA: 11:13 - loss: in - ETA: 11:12 - loss: in - ETA: 11:12 - loss: in - ETA: 11:12 - loss: in - ETA: 11:11 - loss: in - ETA: 11:11 - loss: in - ETA: 11:10 - loss: in - ETA: 11:10 - loss: in - ETA: 11:10 - loss: in - ETA: 11:09 - loss: in - ETA: 11:09 - loss: in - ETA: 11:09 - loss: in - ETA: 11:08 - loss: in - ETA: 11:08 - loss: in - ETA: 11:08 - loss: in - ETA: 11:07 - loss: in - ETA: 11:07 - loss: in - ETA: 11:06 - loss: in - ETA: 11:06 - loss: in - ETA: 11:06 - loss: in - ETA: 11:05 - loss: in - ETA: 11:05 - loss: in - ETA: 11:05 - loss: in - ETA: 11:04 - loss: in - ETA: 11:04 - loss: in - ETA: 11:03 - loss: in - ETA: 11:03 - loss: in - ETA: 11:03 - loss: in - ETA: 11:02 - loss: in - ETA: 11:02 - loss: in - ETA: 11:02 - loss: in - ETA: 11:01 - loss: in - ETA: 11:01 - loss: in - ETA: 11:00 - loss: in - ETA: 11:00 - loss: in - ETA: 11:00 - loss: in - ETA: 10:59 - loss: in - ETA: 10:59 - loss: in - ETA: 10:59 - loss: in - ETA: 10:58 - loss: in - ETA: 10:58 - loss: in - ETA: 10:57 - loss: in - ETA: 10:57 - loss: in - ETA: 10:57 - loss: in - ETA: 10:56 - loss: in - ETA: 10:56 - loss: in - ETA: 10:56 - loss: in - ETA: 10:55 - loss: in - ETA: 10:55 - loss: in - ETA: 10:54 - loss: in - ETA: 10:54 - loss: in - ETA: 10:54 - loss: in - ETA: 10:53 - loss: in - ETA: 10:53 - loss: in - ETA: 10:53 - loss: in - ETA: 10:52 - loss: in - ETA: 10:52 - loss: in - ETA: 10:51 - loss: in - ETA: 10:51 - loss: in - ETA: 10:51 - loss: in - ETA: 10:50 - loss: in - ETA: 10:50 - loss: in - ETA: 10:50 - loss: in - ETA: 10:49 - loss: in - ETA: 10:49 - loss: in - ETA: 10:49 - loss: in - ETA: 10:48 - loss: in - ETA: 10:48 - loss: in - ETA: 10:48 - loss: in - ETA: 10:47 - loss: in - ETA: 10:47 - loss: in - ETA: 10:47 - loss: in - ETA: 10:46 - loss: in - ETA: 10:46 - loss: in - ETA: 10:46 - loss: in - ETA: 10:45 - loss: in - ETA: 10:45 - loss: in - ETA: 10:44 - loss: in - ETA: 10:44 - loss: in - ETA: 10:44 - loss: in - ETA: 10:43 - loss: in - ETA: 10:43 - loss: in - ETA: 10:43 - loss: in - ETA: 10:42 - loss: in - ETA: 10:42 - loss: in - ETA: 10:41 - loss: in - ETA: 10:41 - loss: in - ETA: 10:41 - loss: in - ETA: 10:40 - loss: in - ETA: 10:40 - loss: in - ETA: 10:40 - loss: in - ETA: 10:39 - loss: in - ETA: 10:39 - loss: in - ETA: 10:38 - loss: in - ETA: 10:38 - loss: in - ETA: 10:38 - loss: in - ETA: 10:37 - loss: in - ETA: 10:37 - loss: in - ETA: 10:36 - loss: in - ETA: 10:36 - loss: in - ETA: 10:36 - loss: in - ETA: 10:35 - loss: in - ETA: 10:35 - loss: in - ETA: 10:35 - loss: in - ETA: 10:34 - loss: in - ETA: 10:34 - loss: in - ETA: 10:34 - loss: in - ETA: 10:33 - loss: in - ETA: 10:33 - loss: in - ETA: 10:32 - loss: in - ETA: 10:32 - loss: in - ETA: 10:32 - loss: in - ETA: 10:31 - loss: in - ETA: 10:31 - loss: in - ETA: 10:31 - loss: in - ETA: 10:31 - loss: in - ETA: 10:30 - loss: in - ETA: 10:30 - loss: in - ETA: 10:30 - loss: in - ETA: 10:29 - loss: in - ETA: 10:29 - loss: in - ETA: 10:29 - loss: in - ETA: 10:28 - loss: in - ETA: 10:28 - loss: in - ETA: 10:28 - loss: in - ETA: 10:27 - loss: in - ETA: 10:27 - loss: in - ETA: 10:27 - loss: in - ETA: 10:26 - loss: in - ETA: 10:26 - loss: in - ETA: 10:26 - loss: in - ETA: 10:25 - loss: in - ETA: 10:25 - loss: in - ETA: 10:24 - loss: in - ETA: 10:24 - loss: in - ETA: 10:24 - loss: in - ETA: 10:23 - loss: in - ETA: 10:23 - loss: in - ETA: 10:22 - loss: in - ETA: 10:22 - loss: in - ETA: 10:22 - loss: in - ETA: 10:21 - loss: in - ETA: 10:21 - loss: in - ETA: 10:21 - loss: in - ETA: 10:20 - loss: in - ETA: 10:20 - loss: in - ETA: 10:19 - loss: in - ETA: 10:19 - loss: in - ETA: 10:19 - loss: in - ETA: 10:18 - loss: in - ETA: 10:18 - loss: in - ETA: 10:18 - loss: in - ETA: 10:17 - loss: in - ETA: 10:17 - loss: in - ETA: 10:17 - loss: in - ETA: 10:16 - loss: in - ETA: 10:16 - loss: in - ETA: 10:15 - loss: in - ETA: 10:15 - loss: in - ETA: 10:15 - loss: in - ETA: 10:14 - loss: in - ETA: 10:14 - loss: in - ETA: 10:14 - loss: in - ETA: 10:14 - loss: in - ETA: 10:13 - loss: in - ETA: 10:13 - loss: in - ETA: 10:13 - loss: in - ETA: 10:12 - loss: in - ETA: 10:12 - loss: in - ETA: 10:12 - loss: in - ETA: 10:11 - loss: in - ETA: 10:11 - loss: in - ETA: 10:11 - loss: in - ETA: 10:10 - loss: inf"
     ]
    },
    {
     "name": "stdout",
     "output_type": "stream",
     "text": [
      "1388/2812 [=============>................] - ETA: 10:10 - loss: in - ETA: 10:09 - loss: in - ETA: 10:09 - loss: in - ETA: 10:09 - loss: in - ETA: 10:08 - loss: in - ETA: 10:08 - loss: in - ETA: 10:08 - loss: in - ETA: 10:07 - loss: in - ETA: 10:07 - loss: in - ETA: 10:07 - loss: in - ETA: 10:06 - loss: in - ETA: 10:06 - loss: in - ETA: 10:05 - loss: in - ETA: 10:05 - loss: in - ETA: 10:04 - loss: in - ETA: 10:04 - loss: in - ETA: 10:04 - loss: in - ETA: 10:03 - loss: in - ETA: 10:03 - loss: in - ETA: 10:02 - loss: in - ETA: 10:02 - loss: in - ETA: 10:02 - loss: in - ETA: 10:01 - loss: in - ETA: 10:01 - loss: in - ETA: 10:00 - loss: in - ETA: 10:00 - loss: in - ETA: 10:00 - loss: in - ETA: 9:59 - loss: in - ETA: 9:59 - loss: i - ETA: 9:59 - loss: i - ETA: 9:58 - loss: i - ETA: 9:58 - loss: i - ETA: 9:57 - loss: i - ETA: 9:57 - loss: i - ETA: 9:56 - loss: i - ETA: 9:56 - loss: i - ETA: 9:56 - loss: i - ETA: 9:55 - loss: i - ETA: 9:55 - loss: i - ETA: 9:55 - loss: i - ETA: 9:54 - loss: i - ETA: 9:54 - loss: i - ETA: 9:54 - loss: i - ETA: 9:53 - loss: i - ETA: 9:53 - loss: i - ETA: 9:52 - loss: i - ETA: 9:52 - loss: i - ETA: 9:52 - loss: i - ETA: 9:51 - loss: i - ETA: 9:51 - loss: i - ETA: 9:51 - loss: i - ETA: 9:50 - loss: i - ETA: 9:50 - loss: i - ETA: 9:49 - loss: i - ETA: 9:49 - loss: i - ETA: 9:49 - loss: i - ETA: 9:48 - loss: i - ETA: 9:48 - loss: i - ETA: 9:47 - loss: i - ETA: 9:47 - loss: i - ETA: 9:47 - loss: i - ETA: 9:46 - loss: i - ETA: 9:46 - loss: i - ETA: 9:45 - loss: i - ETA: 9:45 - loss: i - ETA: 9:45 - loss: i - ETA: 9:44 - loss: i - ETA: 9:44 - loss: i - ETA: 9:44 - loss: i - ETA: 9:43 - loss: i - ETA: 9:43 - loss: i - ETA: 9:42 - loss: i - ETA: 9:42 - loss: i - ETA: 9:42 - loss: i - ETA: 9:41 - loss: i - ETA: 9:41 - loss: i - ETA: 9:41 - loss: i - ETA: 9:40 - loss: i - ETA: 9:40 - loss: i - ETA: 9:40 - loss: i - ETA: 9:39 - loss: i - ETA: 9:39 - loss: i - ETA: 9:39 - loss: i - ETA: 9:38 - loss: i - ETA: 9:38 - loss: i - ETA: 9:37 - loss: i - ETA: 9:37 - loss: i - ETA: 9:36 - loss: i - ETA: 9:36 - loss: i - ETA: 9:36 - loss: i - ETA: 9:36 - loss: i - ETA: 9:35 - loss: i - ETA: 9:35 - loss: i - ETA: 9:34 - loss: i - ETA: 9:34 - loss: i - ETA: 9:34 - loss: i - ETA: 9:33 - loss: i - ETA: 9:33 - loss: i - ETA: 9:33 - loss: i - ETA: 9:32 - loss: i - ETA: 9:32 - loss: i - ETA: 9:32 - loss: i - ETA: 9:32 - loss: i - ETA: 9:31 - loss: i - ETA: 9:31 - loss: i - ETA: 9:31 - loss: i - ETA: 9:30 - loss: i - ETA: 9:30 - loss: i - ETA: 9:30 - loss: i - ETA: 9:29 - loss: i - ETA: 9:29 - loss: i - ETA: 9:29 - loss: i - ETA: 9:28 - loss: i - ETA: 9:28 - loss: i - ETA: 9:27 - loss: i - ETA: 9:27 - loss: i - ETA: 9:27 - loss: i - ETA: 9:26 - loss: i - ETA: 9:26 - loss: i - ETA: 9:26 - loss: i - ETA: 9:25 - loss: i - ETA: 9:25 - loss: i - ETA: 9:25 - loss: i - ETA: 9:24 - loss: i - ETA: 9:24 - loss: i - ETA: 9:24 - loss: i - ETA: 9:23 - loss: i - ETA: 9:23 - loss: i - ETA: 9:22 - loss: i - ETA: 9:22 - loss: i - ETA: 9:22 - loss: i - ETA: 9:21 - loss: i - ETA: 9:21 - loss: i - ETA: 9:21 - loss: i - ETA: 9:20 - loss: i - ETA: 9:20 - loss: i - ETA: 9:19 - loss: i - ETA: 9:19 - loss: i - ETA: 9:19 - loss: i - ETA: 9:18 - loss: i - ETA: 9:18 - loss: i - ETA: 9:18 - loss: i - ETA: 9:17 - loss: i - ETA: 9:17 - loss: i - ETA: 9:17 - loss: i - ETA: 9:16 - loss: i - ETA: 9:16 - loss: i - ETA: 9:16 - loss: i - ETA: 9:15 - loss: i - ETA: 9:15 - loss: i - ETA: 9:15 - loss: i - ETA: 9:14 - loss: i - ETA: 9:14 - loss: i - ETA: 9:14 - loss: i - ETA: 9:13 - loss: i - ETA: 9:13 - loss: i - ETA: 9:13 - loss: i - ETA: 9:12 - loss: i - ETA: 9:12 - loss: i - ETA: 9:12 - loss: i - ETA: 9:11 - loss: i - ETA: 9:11 - loss: i - ETA: 9:11 - loss: i - ETA: 9:10 - loss: i - ETA: 9:10 - loss: i - ETA: 9:09 - loss: i - ETA: 9:09 - loss: i - ETA: 9:09 - loss: i - ETA: 9:08 - loss: i - ETA: 9:08 - loss: i - ETA: 9:08 - loss: i - ETA: 9:07 - loss: i - ETA: 9:07 - loss: i - ETA: 9:06 - loss: i - ETA: 9:06 - loss: i - ETA: 9:06 - loss: i - ETA: 9:05 - loss: i - ETA: 9:05 - loss: i - ETA: 9:05 - loss: i - ETA: 9:04 - loss: i - ETA: 9:04 - loss: i - ETA: 9:04 - loss: i - ETA: 9:03 - loss: i - ETA: 9:03 - loss: i - ETA: 9:03 - loss: i - ETA: 9:02 - loss: i - ETA: 9:02 - loss: i - ETA: 9:02 - loss: i - ETA: 9:01 - loss: i - ETA: 9:01 - loss: i - ETA: 9:01 - loss: i - ETA: 9:00 - loss: i - ETA: 9:00 - loss: i - ETA: 9:00 - loss: i - ETA: 8:59 - loss: i - ETA: 8:59 - loss: i - ETA: 8:59 - loss: i - ETA: 8:58 - loss: i - ETA: 8:58 - loss: i - ETA: 8:58 - loss: i - ETA: 8:57 - loss: i - ETA: 8:57 - loss: i - ETA: 8:57 - loss: i - ETA: 8:56 - loss: i - ETA: 8:56 - loss: i - ETA: 8:55 - loss: i - ETA: 8:55 - loss: i - ETA: 8:55 - loss: i - ETA: 8:54 - loss: i - ETA: 8:54 - loss: i - ETA: 8:54 - loss: i - ETA: 8:53 - loss: i - ETA: 8:53 - loss: i - ETA: 8:53 - loss: i - ETA: 8:52 - loss: i - ETA: 8:52 - loss: i - ETA: 8:52 - loss: i - ETA: 8:51 - loss: i - ETA: 8:51 - loss: i - ETA: 8:51 - loss: i - ETA: 8:50 - loss: i - ETA: 8:50 - loss: i - ETA: 8:50 - loss: i - ETA: 8:49 - loss: i - ETA: 8:49 - loss: i - ETA: 8:49 - loss: i - ETA: 8:48 - loss: i - ETA: 8:48 - loss: i - ETA: 8:47 - loss: i - ETA: 8:47 - loss: i - ETA: 8:47 - loss: i - ETA: 8:46 - loss: i - ETA: 8:46 - loss: i - ETA: 8:46 - loss: i - ETA: 8:45 - loss: i - ETA: 8:45 - loss: i - ETA: 8:45 - loss: i - ETA: 8:44 - loss: i - ETA: 8:44 - loss: i - ETA: 8:44 - loss: i - ETA: 8:43 - loss: i - ETA: 8:43 - loss: i - ETA: 8:43 - loss: i - ETA: 8:42 - loss: i - ETA: 8:42 - loss: i - ETA: 8:42 - loss: i - ETA: 8:42 - loss: i - ETA: 8:41 - loss: i - ETA: 8:41 - loss: i - ETA: 8:41 - loss: i - ETA: 8:40 - loss: i - ETA: 8:40 - loss: i - ETA: 8:40 - loss: i - ETA: 8:39 - loss: i - ETA: 8:39 - loss: i - ETA: 8:38 - loss: i - ETA: 8:38 - loss: i - ETA: 8:38 - loss: i - ETA: 8:37 - loss: i - ETA: 8:37 - loss: i - ETA: 8:37 - loss: i - ETA: 8:36 - loss: i - ETA: 8:36 - loss: i - ETA: 8:36 - loss: i - ETA: 8:35 - loss: i - ETA: 8:35 - loss: i - ETA: 8:35 - loss: i - ETA: 8:34 - loss: i - ETA: 8:34 - loss: i - ETA: 8:33 - loss: i - ETA: 8:33 - loss: i - ETA: 8:33 - loss: i - ETA: 8:32 - loss: i - ETA: 8:32 - loss: i - ETA: 8:32 - loss: i - ETA: 8:31 - loss: i - ETA: 8:31 - loss: i - ETA: 8:31 - loss: i - ETA: 8:30 - loss: i - ETA: 8:30 - loss: i - ETA: 8:29 - loss: i - ETA: 8:29 - loss: i - ETA: 8:29 - loss: i - ETA: 8:28 - loss: i - ETA: 8:28 - loss: i - ETA: 8:28 - loss: i - ETA: 8:27 - loss: i - ETA: 8:27 - loss: i - ETA: 8:27 - loss: i - ETA: 8:26 - loss: i - ETA: 8:26 - loss: i - ETA: 8:26 - loss: i - ETA: 8:25 - loss: i - ETA: 8:25 - loss: i - ETA: 8:25 - loss: i - ETA: 8:24 - loss: i - ETA: 8:24 - loss: i - ETA: 8:24 - loss: i - ETA: 8:23 - loss: i - ETA: 8:23 - loss: i - ETA: 8:23 - loss: i - ETA: 8:22 - loss: i - ETA: 8:22 - loss: i - ETA: 8:22 - loss: i - ETA: 8:21 - loss: i - ETA: 8:21 - loss: i - ETA: 8:20 - loss: i - ETA: 8:20 - loss: i - ETA: 8:20 - loss: i - ETA: 8:19 - loss: i - ETA: 8:19 - loss: i - ETA: 8:19 - loss: i - ETA: 8:18 - loss: i - ETA: 8:18 - loss: i - ETA: 8:18 - loss: i - ETA: 8:17 - loss: i - ETA: 8:17 - loss: i - ETA: 8:17 - loss: i - ETA: 8:16 - loss: i - ETA: 8:16 - loss: i - ETA: 8:16 - loss: i - ETA: 8:15 - loss: i - ETA: 8:15 - loss: i - ETA: 8:15 - loss: i - ETA: 8:14 - loss: i - ETA: 8:14 - loss: i - ETA: 8:14 - loss: i - ETA: 8:13 - loss: i - ETA: 8:13 - loss: i - ETA: 8:13 - loss: i - ETA: 8:12 - loss: i - ETA: 8:12 - loss: i - ETA: 8:12 - loss: i - ETA: 8:11 - loss: i - ETA: 8:11 - loss: i - ETA: 8:11 - loss: i - ETA: 8:10 - loss: i - ETA: 8:10 - loss: i - ETA: 8:10 - loss: i - ETA: 8:09 - loss: i - ETA: 8:09 - loss: i - ETA: 8:09 - loss: i - ETA: 8:08 - loss: i - ETA: 8:08 - loss: i - ETA: 8:08 - loss: i - ETA: 8:07 - loss: i - ETA: 8:07 - loss: i - ETA: 8:07 - loss: i - ETA: 8:06 - loss: i - ETA: 8:06 - loss: i - ETA: 8:06 - loss: i - ETA: 8:05 - loss: i - ETA: 8:05 - loss: i - ETA: 8:05 - loss: i - ETA: 8:04 - loss: i - ETA: 8:04 - loss: i - ETA: 8:04 - loss: i - ETA: 8:03 - loss: i - ETA: 8:03 - loss: i - ETA: 8:03 - loss: i - ETA: 8:02 - loss: i - ETA: 8:02 - loss: i - ETA: 8:02 - loss: i - ETA: 8:01 - loss: i - ETA: 8:01 - loss: i - ETA: 8:01 - loss: i - ETA: 8:00 - loss: i - ETA: 8:00 - loss: inf"
     ]
    },
    {
     "name": "stdout",
     "output_type": "stream",
     "text": [
      "1759/2812 [=================>............] - ETA: 8:00 - loss: i - ETA: 7:59 - loss: i - ETA: 7:59 - loss: i - ETA: 7:59 - loss: i - ETA: 7:58 - loss: i - ETA: 7:58 - loss: i - ETA: 7:58 - loss: i - ETA: 7:57 - loss: i - ETA: 7:57 - loss: i - ETA: 7:57 - loss: i - ETA: 7:56 - loss: i - ETA: 7:56 - loss: i - ETA: 7:56 - loss: i - ETA: 7:55 - loss: i - ETA: 7:55 - loss: i - ETA: 7:55 - loss: i - ETA: 7:54 - loss: i - ETA: 7:54 - loss: i - ETA: 7:54 - loss: i - ETA: 7:53 - loss: i - ETA: 7:53 - loss: i - ETA: 7:53 - loss: i - ETA: 7:52 - loss: i - ETA: 7:52 - loss: i - ETA: 7:52 - loss: i - ETA: 7:51 - loss: i - ETA: 7:51 - loss: i - ETA: 7:50 - loss: i - ETA: 7:50 - loss: i - ETA: 7:50 - loss: i - ETA: 7:49 - loss: i - ETA: 7:49 - loss: i - ETA: 7:48 - loss: i - ETA: 7:48 - loss: i - ETA: 7:48 - loss: i - ETA: 7:47 - loss: i - ETA: 7:47 - loss: i - ETA: 7:47 - loss: i - ETA: 7:46 - loss: i - ETA: 7:46 - loss: i - ETA: 7:46 - loss: i - ETA: 7:45 - loss: i - ETA: 7:45 - loss: i - ETA: 7:44 - loss: i - ETA: 7:44 - loss: i - ETA: 7:44 - loss: i - ETA: 7:43 - loss: i - ETA: 7:43 - loss: i - ETA: 7:43 - loss: i - ETA: 7:42 - loss: i - ETA: 7:42 - loss: i - ETA: 7:42 - loss: i - ETA: 7:41 - loss: i - ETA: 7:41 - loss: i - ETA: 7:41 - loss: i - ETA: 7:40 - loss: i - ETA: 7:40 - loss: i - ETA: 7:40 - loss: i - ETA: 7:39 - loss: i - ETA: 7:39 - loss: i - ETA: 7:39 - loss: i - ETA: 7:38 - loss: i - ETA: 7:38 - loss: i - ETA: 7:38 - loss: i - ETA: 7:37 - loss: i - ETA: 7:37 - loss: i - ETA: 7:37 - loss: i - ETA: 7:36 - loss: i - ETA: 7:36 - loss: i - ETA: 7:36 - loss: i - ETA: 7:35 - loss: i - ETA: 7:35 - loss: i - ETA: 7:35 - loss: i - ETA: 7:34 - loss: i - ETA: 7:34 - loss: i - ETA: 7:34 - loss: i - ETA: 7:33 - loss: i - ETA: 7:33 - loss: i - ETA: 7:33 - loss: i - ETA: 7:32 - loss: i - ETA: 7:32 - loss: i - ETA: 7:32 - loss: i - ETA: 7:31 - loss: i - ETA: 7:31 - loss: i - ETA: 7:30 - loss: i - ETA: 7:30 - loss: i - ETA: 7:30 - loss: i - ETA: 7:29 - loss: i - ETA: 7:29 - loss: i - ETA: 7:29 - loss: i - ETA: 7:28 - loss: i - ETA: 7:28 - loss: i - ETA: 7:28 - loss: i - ETA: 7:27 - loss: i - ETA: 7:27 - loss: i - ETA: 7:27 - loss: i - ETA: 7:26 - loss: i - ETA: 7:26 - loss: i - ETA: 7:26 - loss: i - ETA: 7:25 - loss: i - ETA: 7:25 - loss: i - ETA: 7:25 - loss: i - ETA: 7:24 - loss: i - ETA: 7:24 - loss: i - ETA: 7:24 - loss: i - ETA: 7:23 - loss: i - ETA: 7:23 - loss: i - ETA: 7:23 - loss: i - ETA: 7:22 - loss: i - ETA: 7:22 - loss: i - ETA: 7:22 - loss: i - ETA: 7:21 - loss: i - ETA: 7:21 - loss: i - ETA: 7:21 - loss: i - ETA: 7:20 - loss: i - ETA: 7:20 - loss: i - ETA: 7:19 - loss: i - ETA: 7:19 - loss: i - ETA: 7:19 - loss: i - ETA: 7:18 - loss: i - ETA: 7:18 - loss: i - ETA: 7:18 - loss: i - ETA: 7:17 - loss: i - ETA: 7:17 - loss: i - ETA: 7:17 - loss: i - ETA: 7:16 - loss: i - ETA: 7:16 - loss: i - ETA: 7:16 - loss: i - ETA: 7:15 - loss: i - ETA: 7:15 - loss: i - ETA: 7:15 - loss: i - ETA: 7:14 - loss: i - ETA: 7:14 - loss: i - ETA: 7:14 - loss: i - ETA: 7:13 - loss: i - ETA: 7:13 - loss: i - ETA: 7:12 - loss: i - ETA: 7:12 - loss: i - ETA: 7:12 - loss: i - ETA: 7:11 - loss: i - ETA: 7:11 - loss: i - ETA: 7:11 - loss: i - ETA: 7:10 - loss: i - ETA: 7:10 - loss: i - ETA: 7:10 - loss: i - ETA: 7:09 - loss: i - ETA: 7:09 - loss: i - ETA: 7:08 - loss: i - ETA: 7:08 - loss: i - ETA: 7:08 - loss: i - ETA: 7:07 - loss: i - ETA: 7:07 - loss: i - ETA: 7:07 - loss: i - ETA: 7:06 - loss: i - ETA: 7:06 - loss: i - ETA: 7:06 - loss: i - ETA: 7:05 - loss: i - ETA: 7:05 - loss: i - ETA: 7:05 - loss: i - ETA: 7:04 - loss: i - ETA: 7:04 - loss: i - ETA: 7:04 - loss: i - ETA: 7:03 - loss: i - ETA: 7:03 - loss: i - ETA: 7:03 - loss: i - ETA: 7:02 - loss: i - ETA: 7:02 - loss: i - ETA: 7:02 - loss: i - ETA: 7:02 - loss: i - ETA: 7:01 - loss: i - ETA: 7:01 - loss: i - ETA: 7:00 - loss: i - ETA: 7:00 - loss: i - ETA: 7:00 - loss: i - ETA: 6:59 - loss: i - ETA: 6:59 - loss: i - ETA: 6:59 - loss: i - ETA: 6:58 - loss: i - ETA: 6:58 - loss: i - ETA: 6:57 - loss: i - ETA: 6:57 - loss: i - ETA: 6:57 - loss: i - ETA: 6:56 - loss: i - ETA: 6:56 - loss: i - ETA: 6:56 - loss: i - ETA: 6:55 - loss: i - ETA: 6:55 - loss: i - ETA: 6:55 - loss: i - ETA: 6:54 - loss: i - ETA: 6:54 - loss: i - ETA: 6:54 - loss: i - ETA: 6:53 - loss: i - ETA: 6:53 - loss: i - ETA: 6:53 - loss: i - ETA: 6:52 - loss: i - ETA: 6:52 - loss: i - ETA: 6:52 - loss: i - ETA: 6:51 - loss: i - ETA: 6:51 - loss: i - ETA: 6:51 - loss: i - ETA: 6:50 - loss: i - ETA: 6:50 - loss: i - ETA: 6:50 - loss: i - ETA: 6:49 - loss: i - ETA: 6:49 - loss: i - ETA: 6:49 - loss: i - ETA: 6:48 - loss: i - ETA: 6:48 - loss: i - ETA: 6:48 - loss: i - ETA: 6:47 - loss: i - ETA: 6:47 - loss: i - ETA: 6:47 - loss: i - ETA: 6:46 - loss: i - ETA: 6:46 - loss: i - ETA: 6:46 - loss: i - ETA: 6:45 - loss: i - ETA: 6:45 - loss: i - ETA: 6:45 - loss: i - ETA: 6:44 - loss: i - ETA: 6:44 - loss: i - ETA: 6:44 - loss: i - ETA: 6:43 - loss: i - ETA: 6:43 - loss: i - ETA: 6:42 - loss: i - ETA: 6:42 - loss: i - ETA: 6:42 - loss: i - ETA: 6:41 - loss: i - ETA: 6:41 - loss: i - ETA: 6:41 - loss: i - ETA: 6:40 - loss: i - ETA: 6:40 - loss: i - ETA: 6:40 - loss: i - ETA: 6:39 - loss: i - ETA: 6:39 - loss: i - ETA: 6:39 - loss: i - ETA: 6:38 - loss: i - ETA: 6:38 - loss: i - ETA: 6:38 - loss: i - ETA: 6:37 - loss: i - ETA: 6:37 - loss: i - ETA: 6:37 - loss: i - ETA: 6:36 - loss: i - ETA: 6:36 - loss: i - ETA: 6:36 - loss: i - ETA: 6:35 - loss: i - ETA: 6:35 - loss: i - ETA: 6:35 - loss: i - ETA: 6:34 - loss: i - ETA: 6:34 - loss: i - ETA: 6:34 - loss: i - ETA: 6:33 - loss: i - ETA: 6:33 - loss: i - ETA: 6:32 - loss: i - ETA: 6:32 - loss: i - ETA: 6:32 - loss: i - ETA: 6:31 - loss: i - ETA: 6:31 - loss: i - ETA: 6:31 - loss: i - ETA: 6:30 - loss: i - ETA: 6:30 - loss: i - ETA: 6:30 - loss: i - ETA: 6:29 - loss: i - ETA: 6:29 - loss: i - ETA: 6:29 - loss: i - ETA: 6:28 - loss: i - ETA: 6:28 - loss: i - ETA: 6:28 - loss: i - ETA: 6:27 - loss: i - ETA: 6:27 - loss: i - ETA: 6:27 - loss: i - ETA: 6:26 - loss: i - ETA: 6:26 - loss: i - ETA: 6:26 - loss: i - ETA: 6:26 - loss: i - ETA: 6:25 - loss: i - ETA: 6:25 - loss: i - ETA: 6:24 - loss: i - ETA: 6:24 - loss: i - ETA: 6:24 - loss: i - ETA: 6:23 - loss: i - ETA: 6:23 - loss: i - ETA: 6:23 - loss: i - ETA: 6:22 - loss: i - ETA: 6:22 - loss: i - ETA: 6:22 - loss: i - ETA: 6:21 - loss: i - ETA: 6:21 - loss: i - ETA: 6:21 - loss: i - ETA: 6:20 - loss: i - ETA: 6:20 - loss: i - ETA: 6:20 - loss: i - ETA: 6:19 - loss: i - ETA: 6:19 - loss: i - ETA: 6:18 - loss: i - ETA: 6:18 - loss: i - ETA: 6:18 - loss: i - ETA: 6:17 - loss: i - ETA: 6:17 - loss: i - ETA: 6:17 - loss: i - ETA: 6:16 - loss: i - ETA: 6:16 - loss: i - ETA: 6:16 - loss: i - ETA: 6:15 - loss: i - ETA: 6:15 - loss: i - ETA: 6:15 - loss: i - ETA: 6:14 - loss: i - ETA: 6:14 - loss: i - ETA: 6:14 - loss: i - ETA: 6:13 - loss: i - ETA: 6:13 - loss: i - ETA: 6:13 - loss: i - ETA: 6:12 - loss: i - ETA: 6:12 - loss: i - ETA: 6:12 - loss: i - ETA: 6:11 - loss: i - ETA: 6:11 - loss: i - ETA: 6:11 - loss: i - ETA: 6:10 - loss: i - ETA: 6:10 - loss: i - ETA: 6:10 - loss: i - ETA: 6:09 - loss: i - ETA: 6:09 - loss: i - ETA: 6:09 - loss: i - ETA: 6:08 - loss: i - ETA: 6:08 - loss: i - ETA: 6:08 - loss: i - ETA: 6:07 - loss: i - ETA: 6:07 - loss: i - ETA: 6:07 - loss: i - ETA: 6:06 - loss: i - ETA: 6:06 - loss: i - ETA: 6:06 - loss: i - ETA: 6:05 - loss: i - ETA: 6:05 - loss: i - ETA: 6:04 - loss: i - ETA: 6:04 - loss: i - ETA: 6:04 - loss: i - ETA: 6:03 - loss: i - ETA: 6:03 - loss: i - ETA: 6:03 - loss: i - ETA: 6:02 - loss: i - ETA: 6:02 - loss: i - ETA: 6:02 - loss: i - ETA: 6:01 - loss: i - ETA: 6:01 - loss: i - ETA: 6:01 - loss: i - ETA: 6:00 - loss: i - ETA: 6:00 - loss: i - ETA: 5:59 - loss: i - ETA: 5:59 - loss: i - ETA: 5:59 - loss: i - ETA: 5:58 - loss: i - ETA: 5:58 - loss: i - ETA: 5:58 - loss: i - ETA: 5:57 - loss: i - ETA: 5:57 - loss: i - ETA: 5:57 - loss: i - ETA: 5:56 - loss: i - ETA: 5:56 - loss: i - ETA: 5:56 - loss: i - ETA: 5:55 - loss: i - ETA: 5:55 - loss: i - ETA: 5:55 - loss: i - ETA: 5:54 - loss: i - ETA: 5:54 - loss: i - ETA: 5:54 - loss: i - ETA: 5:53 - loss: i - ETA: 5:53 - loss: i - ETA: 5:53 - loss: i - ETA: 5:52 - loss: i - ETA: 5:52 - loss: inf"
     ]
    },
    {
     "name": "stdout",
     "output_type": "stream",
     "text": [
      "2130/2812 [=====================>........] - ETA: 5:52 - loss: i - ETA: 5:51 - loss: i - ETA: 5:51 - loss: i - ETA: 5:51 - loss: i - ETA: 5:50 - loss: i - ETA: 5:50 - loss: i - ETA: 5:50 - loss: i - ETA: 5:49 - loss: i - ETA: 5:49 - loss: i - ETA: 5:49 - loss: i - ETA: 5:48 - loss: i - ETA: 5:48 - loss: i - ETA: 5:47 - loss: i - ETA: 5:47 - loss: i - ETA: 5:47 - loss: i - ETA: 5:46 - loss: i - ETA: 5:46 - loss: i - ETA: 5:46 - loss: i - ETA: 5:45 - loss: i - ETA: 5:45 - loss: i - ETA: 5:45 - loss: i - ETA: 5:44 - loss: i - ETA: 5:44 - loss: i - ETA: 5:44 - loss: i - ETA: 5:43 - loss: i - ETA: 5:43 - loss: i - ETA: 5:43 - loss: i - ETA: 5:42 - loss: i - ETA: 5:42 - loss: i - ETA: 5:42 - loss: i - ETA: 5:41 - loss: i - ETA: 5:41 - loss: i - ETA: 5:41 - loss: i - ETA: 5:40 - loss: i - ETA: 5:40 - loss: i - ETA: 5:40 - loss: i - ETA: 5:39 - loss: i - ETA: 5:39 - loss: i - ETA: 5:39 - loss: i - ETA: 5:38 - loss: i - ETA: 5:38 - loss: i - ETA: 5:38 - loss: i - ETA: 5:37 - loss: i - ETA: 5:37 - loss: i - ETA: 5:37 - loss: i - ETA: 5:36 - loss: i - ETA: 5:36 - loss: i - ETA: 5:36 - loss: i - ETA: 5:35 - loss: i - ETA: 5:35 - loss: i - ETA: 5:35 - loss: i - ETA: 5:34 - loss: i - ETA: 5:34 - loss: i - ETA: 5:34 - loss: i - ETA: 5:33 - loss: i - ETA: 5:33 - loss: i - ETA: 5:33 - loss: i - ETA: 5:32 - loss: i - ETA: 5:32 - loss: i - ETA: 5:32 - loss: i - ETA: 5:31 - loss: i - ETA: 5:31 - loss: i - ETA: 5:31 - loss: i - ETA: 5:30 - loss: i - ETA: 5:30 - loss: i - ETA: 5:29 - loss: i - ETA: 5:29 - loss: i - ETA: 5:29 - loss: i - ETA: 5:28 - loss: i - ETA: 5:28 - loss: i - ETA: 5:28 - loss: i - ETA: 5:27 - loss: i - ETA: 5:27 - loss: i - ETA: 5:27 - loss: i - ETA: 5:26 - loss: i - ETA: 5:26 - loss: i - ETA: 5:26 - loss: i - ETA: 5:25 - loss: i - ETA: 5:25 - loss: i - ETA: 5:25 - loss: i - ETA: 5:24 - loss: i - ETA: 5:24 - loss: i - ETA: 5:24 - loss: i - ETA: 5:23 - loss: i - ETA: 5:23 - loss: i - ETA: 5:23 - loss: i - ETA: 5:22 - loss: i - ETA: 5:22 - loss: i - ETA: 5:22 - loss: i - ETA: 5:21 - loss: i - ETA: 5:21 - loss: i - ETA: 5:21 - loss: i - ETA: 5:20 - loss: i - ETA: 5:20 - loss: i - ETA: 5:20 - loss: i - ETA: 5:19 - loss: i - ETA: 5:19 - loss: i - ETA: 5:19 - loss: i - ETA: 5:18 - loss: i - ETA: 5:18 - loss: i - ETA: 5:18 - loss: i - ETA: 5:17 - loss: i - ETA: 5:17 - loss: i - ETA: 5:17 - loss: i - ETA: 5:16 - loss: i - ETA: 5:16 - loss: i - ETA: 5:16 - loss: i - ETA: 5:15 - loss: i - ETA: 5:15 - loss: i - ETA: 5:15 - loss: i - ETA: 5:14 - loss: i - ETA: 5:14 - loss: i - ETA: 5:14 - loss: i - ETA: 5:13 - loss: i - ETA: 5:13 - loss: i - ETA: 5:13 - loss: i - ETA: 5:13 - loss: i - ETA: 5:12 - loss: i - ETA: 5:12 - loss: i - ETA: 5:12 - loss: i - ETA: 5:11 - loss: i - ETA: 5:11 - loss: i - ETA: 5:11 - loss: i - ETA: 5:10 - loss: i - ETA: 5:10 - loss: i - ETA: 5:10 - loss: i - ETA: 5:09 - loss: i - ETA: 5:09 - loss: i - ETA: 5:09 - loss: i - ETA: 5:08 - loss: i - ETA: 5:08 - loss: i - ETA: 5:08 - loss: i - ETA: 5:08 - loss: i - ETA: 5:07 - loss: i - ETA: 5:07 - loss: i - ETA: 5:07 - loss: i - ETA: 5:06 - loss: i - ETA: 5:06 - loss: i - ETA: 5:06 - loss: i - ETA: 5:05 - loss: i - ETA: 5:05 - loss: i - ETA: 5:05 - loss: i - ETA: 5:04 - loss: i - ETA: 5:04 - loss: i - ETA: 5:04 - loss: i - ETA: 5:03 - loss: i - ETA: 5:03 - loss: i - ETA: 5:03 - loss: i - ETA: 5:02 - loss: i - ETA: 5:02 - loss: i - ETA: 5:02 - loss: i - ETA: 5:01 - loss: i - ETA: 5:01 - loss: i - ETA: 5:01 - loss: i - ETA: 5:00 - loss: i - ETA: 5:00 - loss: i - ETA: 5:00 - loss: i - ETA: 4:59 - loss: i - ETA: 4:59 - loss: i - ETA: 4:59 - loss: i - ETA: 4:58 - loss: i - ETA: 4:58 - loss: i - ETA: 4:58 - loss: i - ETA: 4:57 - loss: i - ETA: 4:57 - loss: i - ETA: 4:57 - loss: i - ETA: 4:56 - loss: i - ETA: 4:56 - loss: i - ETA: 4:56 - loss: i - ETA: 4:55 - loss: i - ETA: 4:55 - loss: i - ETA: 4:54 - loss: i - ETA: 4:54 - loss: i - ETA: 4:54 - loss: i - ETA: 4:53 - loss: i - ETA: 4:53 - loss: i - ETA: 4:53 - loss: i - ETA: 4:52 - loss: i - ETA: 4:52 - loss: i - ETA: 4:52 - loss: i - ETA: 4:51 - loss: i - ETA: 4:51 - loss: i - ETA: 4:51 - loss: i - ETA: 4:50 - loss: i - ETA: 4:50 - loss: i - ETA: 4:50 - loss: i - ETA: 4:49 - loss: i - ETA: 4:49 - loss: i - ETA: 4:49 - loss: i - ETA: 4:48 - loss: i - ETA: 4:48 - loss: i - ETA: 4:48 - loss: i - ETA: 4:47 - loss: i - ETA: 4:47 - loss: i - ETA: 4:47 - loss: i - ETA: 4:46 - loss: i - ETA: 4:46 - loss: i - ETA: 4:46 - loss: i - ETA: 4:45 - loss: i - ETA: 4:45 - loss: i - ETA: 4:45 - loss: i - ETA: 4:44 - loss: i - ETA: 4:44 - loss: i - ETA: 4:44 - loss: i - ETA: 4:43 - loss: i - ETA: 4:43 - loss: i - ETA: 4:43 - loss: i - ETA: 4:42 - loss: i - ETA: 4:42 - loss: i - ETA: 4:42 - loss: i - ETA: 4:41 - loss: i - ETA: 4:41 - loss: i - ETA: 4:41 - loss: i - ETA: 4:40 - loss: i - ETA: 4:40 - loss: i - ETA: 4:40 - loss: i - ETA: 4:39 - loss: i - ETA: 4:39 - loss: i - ETA: 4:39 - loss: i - ETA: 4:38 - loss: i - ETA: 4:38 - loss: i - ETA: 4:37 - loss: i - ETA: 4:37 - loss: i - ETA: 4:37 - loss: i - ETA: 4:36 - loss: i - ETA: 4:36 - loss: i - ETA: 4:36 - loss: i - ETA: 4:35 - loss: i - ETA: 4:35 - loss: i - ETA: 4:35 - loss: i - ETA: 4:34 - loss: i - ETA: 4:34 - loss: i - ETA: 4:34 - loss: i - ETA: 4:33 - loss: i - ETA: 4:33 - loss: i - ETA: 4:33 - loss: i - ETA: 4:32 - loss: i - ETA: 4:32 - loss: i - ETA: 4:32 - loss: i - ETA: 4:31 - loss: i - ETA: 4:31 - loss: i - ETA: 4:31 - loss: i - ETA: 4:30 - loss: i - ETA: 4:30 - loss: i - ETA: 4:30 - loss: i - ETA: 4:29 - loss: i - ETA: 4:29 - loss: i - ETA: 4:29 - loss: i - ETA: 4:28 - loss: i - ETA: 4:28 - loss: i - ETA: 4:28 - loss: i - ETA: 4:27 - loss: i - ETA: 4:27 - loss: i - ETA: 4:27 - loss: i - ETA: 4:26 - loss: i - ETA: 4:26 - loss: i - ETA: 4:26 - loss: i - ETA: 4:25 - loss: i - ETA: 4:25 - loss: i - ETA: 4:25 - loss: i - ETA: 4:24 - loss: i - ETA: 4:24 - loss: i - ETA: 4:24 - loss: i - ETA: 4:23 - loss: i - ETA: 4:23 - loss: i - ETA: 4:23 - loss: i - ETA: 4:22 - loss: i - ETA: 4:22 - loss: i - ETA: 4:22 - loss: i - ETA: 4:21 - loss: i - ETA: 4:21 - loss: i - ETA: 4:21 - loss: i - ETA: 4:20 - loss: i - ETA: 4:20 - loss: i - ETA: 4:20 - loss: i - ETA: 4:19 - loss: i - ETA: 4:19 - loss: i - ETA: 4:19 - loss: i - ETA: 4:18 - loss: i - ETA: 4:18 - loss: i - ETA: 4:18 - loss: i - ETA: 4:17 - loss: i - ETA: 4:17 - loss: i - ETA: 4:17 - loss: i - ETA: 4:16 - loss: i - ETA: 4:16 - loss: i - ETA: 4:16 - loss: i - ETA: 4:15 - loss: i - ETA: 4:15 - loss: i - ETA: 4:15 - loss: i - ETA: 4:14 - loss: i - ETA: 4:14 - loss: i - ETA: 4:14 - loss: i - ETA: 4:13 - loss: i - ETA: 4:13 - loss: i - ETA: 4:13 - loss: i - ETA: 4:12 - loss: i - ETA: 4:12 - loss: i - ETA: 4:12 - loss: i - ETA: 4:11 - loss: i - ETA: 4:11 - loss: i - ETA: 4:11 - loss: i - ETA: 4:10 - loss: i - ETA: 4:10 - loss: i - ETA: 4:10 - loss: i - ETA: 4:09 - loss: i - ETA: 4:09 - loss: i - ETA: 4:09 - loss: i - ETA: 4:08 - loss: i - ETA: 4:08 - loss: i - ETA: 4:08 - loss: i - ETA: 4:07 - loss: i - ETA: 4:07 - loss: i - ETA: 4:06 - loss: i - ETA: 4:06 - loss: i - ETA: 4:06 - loss: i - ETA: 4:05 - loss: i - ETA: 4:05 - loss: i - ETA: 4:05 - loss: i - ETA: 4:04 - loss: i - ETA: 4:04 - loss: i - ETA: 4:04 - loss: i - ETA: 4:03 - loss: i - ETA: 4:03 - loss: i - ETA: 4:03 - loss: i - ETA: 4:02 - loss: i - ETA: 4:02 - loss: i - ETA: 4:02 - loss: i - ETA: 4:01 - loss: i - ETA: 4:01 - loss: i - ETA: 4:01 - loss: i - ETA: 4:00 - loss: i - ETA: 4:00 - loss: i - ETA: 4:00 - loss: i - ETA: 3:59 - loss: i - ETA: 3:59 - loss: i - ETA: 3:59 - loss: i - ETA: 3:58 - loss: i - ETA: 3:58 - loss: i - ETA: 3:58 - loss: i - ETA: 3:57 - loss: i - ETA: 3:57 - loss: i - ETA: 3:57 - loss: i - ETA: 3:56 - loss: i - ETA: 3:56 - loss: i - ETA: 3:56 - loss: i - ETA: 3:55 - loss: i - ETA: 3:55 - loss: i - ETA: 3:55 - loss: i - ETA: 3:54 - loss: i - ETA: 3:54 - loss: i - ETA: 3:54 - loss: i - ETA: 3:53 - loss: i - ETA: 3:53 - loss: i - ETA: 3:53 - loss: i - ETA: 3:52 - loss: i - ETA: 3:52 - loss: i - ETA: 3:52 - loss: i - ETA: 3:51 - loss: i - ETA: 3:51 - loss: i - ETA: 3:51 - loss: i - ETA: 3:50 - loss: i - ETA: 3:50 - loss: i - ETA: 3:50 - loss: i - ETA: 3:49 - loss: i - ETA: 3:49 - loss: i - ETA: 3:49 - loss: i - ETA: 3:48 - loss: i - ETA: 3:48 - loss: i - ETA: 3:48 - loss: i - ETA: 3:47 - loss: inf"
     ]
    },
    {
     "name": "stdout",
     "output_type": "stream",
     "text": [
      "2501/2812 [=========================>....] - ETA: 3:47 - loss: i - ETA: 3:47 - loss: i - ETA: 3:46 - loss: i - ETA: 3:46 - loss: i - ETA: 3:46 - loss: i - ETA: 3:45 - loss: i - ETA: 3:45 - loss: i - ETA: 3:45 - loss: i - ETA: 3:44 - loss: i - ETA: 3:44 - loss: i - ETA: 3:43 - loss: i - ETA: 3:43 - loss: i - ETA: 3:43 - loss: i - ETA: 3:42 - loss: i - ETA: 3:42 - loss: i - ETA: 3:42 - loss: i - ETA: 3:41 - loss: i - ETA: 3:41 - loss: i - ETA: 3:41 - loss: i - ETA: 3:40 - loss: i - ETA: 3:40 - loss: i - ETA: 3:40 - loss: i - ETA: 3:39 - loss: i - ETA: 3:39 - loss: i - ETA: 3:39 - loss: i - ETA: 3:38 - loss: i - ETA: 3:38 - loss: i - ETA: 3:38 - loss: i - ETA: 3:37 - loss: i - ETA: 3:37 - loss: i - ETA: 3:37 - loss: i - ETA: 3:36 - loss: i - ETA: 3:36 - loss: i - ETA: 3:36 - loss: i - ETA: 3:35 - loss: i - ETA: 3:35 - loss: i - ETA: 3:35 - loss: i - ETA: 3:34 - loss: i - ETA: 3:34 - loss: i - ETA: 3:34 - loss: i - ETA: 3:33 - loss: i - ETA: 3:33 - loss: i - ETA: 3:33 - loss: i - ETA: 3:32 - loss: i - ETA: 3:32 - loss: i - ETA: 3:32 - loss: i - ETA: 3:31 - loss: i - ETA: 3:31 - loss: i - ETA: 3:31 - loss: i - ETA: 3:30 - loss: i - ETA: 3:30 - loss: i - ETA: 3:30 - loss: i - ETA: 3:29 - loss: i - ETA: 3:29 - loss: i - ETA: 3:29 - loss: i - ETA: 3:28 - loss: i - ETA: 3:28 - loss: i - ETA: 3:28 - loss: i - ETA: 3:27 - loss: i - ETA: 3:27 - loss: i - ETA: 3:27 - loss: i - ETA: 3:26 - loss: i - ETA: 3:26 - loss: i - ETA: 3:26 - loss: i - ETA: 3:25 - loss: i - ETA: 3:25 - loss: i - ETA: 3:25 - loss: i - ETA: 3:24 - loss: i - ETA: 3:24 - loss: i - ETA: 3:24 - loss: i - ETA: 3:23 - loss: i - ETA: 3:23 - loss: i - ETA: 3:23 - loss: i - ETA: 3:22 - loss: i - ETA: 3:22 - loss: i - ETA: 3:22 - loss: i - ETA: 3:21 - loss: i - ETA: 3:21 - loss: i - ETA: 3:21 - loss: i - ETA: 3:20 - loss: i - ETA: 3:20 - loss: i - ETA: 3:20 - loss: i - ETA: 3:19 - loss: i - ETA: 3:19 - loss: i - ETA: 3:19 - loss: i - ETA: 3:18 - loss: i - ETA: 3:18 - loss: i - ETA: 3:17 - loss: i - ETA: 3:17 - loss: i - ETA: 3:17 - loss: i - ETA: 3:16 - loss: i - ETA: 3:16 - loss: i - ETA: 3:16 - loss: i - ETA: 3:15 - loss: i - ETA: 3:15 - loss: i - ETA: 3:15 - loss: i - ETA: 3:14 - loss: i - ETA: 3:14 - loss: i - ETA: 3:14 - loss: i - ETA: 3:13 - loss: i - ETA: 3:13 - loss: i - ETA: 3:13 - loss: i - ETA: 3:12 - loss: i - ETA: 3:12 - loss: i - ETA: 3:12 - loss: i - ETA: 3:11 - loss: i - ETA: 3:11 - loss: i - ETA: 3:11 - loss: i - ETA: 3:10 - loss: i - ETA: 3:10 - loss: i - ETA: 3:10 - loss: i - ETA: 3:09 - loss: i - ETA: 3:09 - loss: i - ETA: 3:09 - loss: i - ETA: 3:08 - loss: i - ETA: 3:08 - loss: i - ETA: 3:08 - loss: i - ETA: 3:07 - loss: i - ETA: 3:07 - loss: i - ETA: 3:07 - loss: i - ETA: 3:06 - loss: i - ETA: 3:06 - loss: i - ETA: 3:06 - loss: i - ETA: 3:05 - loss: i - ETA: 3:05 - loss: i - ETA: 3:05 - loss: i - ETA: 3:04 - loss: i - ETA: 3:04 - loss: i - ETA: 3:04 - loss: i - ETA: 3:03 - loss: i - ETA: 3:03 - loss: i - ETA: 3:03 - loss: i - ETA: 3:02 - loss: i - ETA: 3:02 - loss: i - ETA: 3:02 - loss: i - ETA: 3:01 - loss: i - ETA: 3:01 - loss: i - ETA: 3:01 - loss: i - ETA: 3:00 - loss: i - ETA: 3:00 - loss: i - ETA: 3:00 - loss: i - ETA: 2:59 - loss: i - ETA: 2:59 - loss: i - ETA: 2:59 - loss: i - ETA: 2:58 - loss: i - ETA: 2:58 - loss: i - ETA: 2:58 - loss: i - ETA: 2:57 - loss: i - ETA: 2:57 - loss: i - ETA: 2:57 - loss: i - ETA: 2:56 - loss: i - ETA: 2:56 - loss: i - ETA: 2:56 - loss: i - ETA: 2:55 - loss: i - ETA: 2:55 - loss: i - ETA: 2:55 - loss: i - ETA: 2:54 - loss: i - ETA: 2:54 - loss: i - ETA: 2:54 - loss: i - ETA: 2:53 - loss: i - ETA: 2:53 - loss: i - ETA: 2:53 - loss: i - ETA: 2:52 - loss: i - ETA: 2:52 - loss: i - ETA: 2:52 - loss: i - ETA: 2:52 - loss: i - ETA: 2:51 - loss: i - ETA: 2:51 - loss: i - ETA: 2:51 - loss: i - ETA: 2:50 - loss: i - ETA: 2:50 - loss: i - ETA: 2:49 - loss: i - ETA: 2:49 - loss: i - ETA: 2:49 - loss: i - ETA: 2:48 - loss: i - ETA: 2:48 - loss: i - ETA: 2:48 - loss: i - ETA: 2:47 - loss: i - ETA: 2:47 - loss: i - ETA: 2:47 - loss: i - ETA: 2:46 - loss: i - ETA: 2:46 - loss: i - ETA: 2:46 - loss: i - ETA: 2:45 - loss: i - ETA: 2:45 - loss: i - ETA: 2:45 - loss: i - ETA: 2:44 - loss: i - ETA: 2:44 - loss: i - ETA: 2:44 - loss: i - ETA: 2:43 - loss: i - ETA: 2:43 - loss: i - ETA: 2:43 - loss: i - ETA: 2:42 - loss: i - ETA: 2:42 - loss: i - ETA: 2:42 - loss: i - ETA: 2:41 - loss: i - ETA: 2:41 - loss: i - ETA: 2:41 - loss: i - ETA: 2:40 - loss: i - ETA: 2:40 - loss: i - ETA: 2:40 - loss: i - ETA: 2:39 - loss: i - ETA: 2:39 - loss: i - ETA: 2:39 - loss: i - ETA: 2:38 - loss: i - ETA: 2:38 - loss: i - ETA: 2:38 - loss: i - ETA: 2:37 - loss: i - ETA: 2:37 - loss: i - ETA: 2:37 - loss: i - ETA: 2:36 - loss: i - ETA: 2:36 - loss: i - ETA: 2:36 - loss: i - ETA: 2:35 - loss: i - ETA: 2:35 - loss: i - ETA: 2:35 - loss: i - ETA: 2:34 - loss: i - ETA: 2:34 - loss: i - ETA: 2:34 - loss: i - ETA: 2:33 - loss: i - ETA: 2:33 - loss: i - ETA: 2:33 - loss: i - ETA: 2:32 - loss: i - ETA: 2:32 - loss: i - ETA: 2:32 - loss: i - ETA: 2:31 - loss: i - ETA: 2:31 - loss: i - ETA: 2:31 - loss: i - ETA: 2:30 - loss: i - ETA: 2:30 - loss: i - ETA: 2:30 - loss: i - ETA: 2:29 - loss: i - ETA: 2:29 - loss: i - ETA: 2:29 - loss: i - ETA: 2:29 - loss: i - ETA: 2:28 - loss: i - ETA: 2:28 - loss: i - ETA: 2:28 - loss: i - ETA: 2:27 - loss: i - ETA: 2:27 - loss: i - ETA: 2:27 - loss: i - ETA: 2:26 - loss: i - ETA: 2:26 - loss: i - ETA: 2:26 - loss: i - ETA: 2:25 - loss: i - ETA: 2:25 - loss: i - ETA: 2:25 - loss: i - ETA: 2:24 - loss: i - ETA: 2:24 - loss: i - ETA: 2:24 - loss: i - ETA: 2:23 - loss: i - ETA: 2:23 - loss: i - ETA: 2:23 - loss: i - ETA: 2:22 - loss: i - ETA: 2:22 - loss: i - ETA: 2:22 - loss: i - ETA: 2:21 - loss: i - ETA: 2:21 - loss: i - ETA: 2:21 - loss: i - ETA: 2:20 - loss: i - ETA: 2:20 - loss: i - ETA: 2:20 - loss: i - ETA: 2:19 - loss: i - ETA: 2:19 - loss: i - ETA: 2:19 - loss: i - ETA: 2:18 - loss: i - ETA: 2:18 - loss: i - ETA: 2:18 - loss: i - ETA: 2:17 - loss: i - ETA: 2:17 - loss: i - ETA: 2:17 - loss: i - ETA: 2:16 - loss: i - ETA: 2:16 - loss: i - ETA: 2:16 - loss: i - ETA: 2:15 - loss: i - ETA: 2:15 - loss: i - ETA: 2:15 - loss: i - ETA: 2:14 - loss: i - ETA: 2:14 - loss: i - ETA: 2:14 - loss: i - ETA: 2:13 - loss: i - ETA: 2:13 - loss: i - ETA: 2:13 - loss: i - ETA: 2:12 - loss: i - ETA: 2:12 - loss: i - ETA: 2:12 - loss: i - ETA: 2:11 - loss: i - ETA: 2:11 - loss: i - ETA: 2:11 - loss: i - ETA: 2:10 - loss: i - ETA: 2:10 - loss: i - ETA: 2:10 - loss: i - ETA: 2:09 - loss: i - ETA: 2:09 - loss: i - ETA: 2:09 - loss: i - ETA: 2:08 - loss: i - ETA: 2:08 - loss: i - ETA: 2:08 - loss: i - ETA: 2:07 - loss: i - ETA: 2:07 - loss: i - ETA: 2:07 - loss: i - ETA: 2:06 - loss: i - ETA: 2:06 - loss: i - ETA: 2:06 - loss: i - ETA: 2:05 - loss: i - ETA: 2:05 - loss: i - ETA: 2:05 - loss: i - ETA: 2:04 - loss: i - ETA: 2:04 - loss: i - ETA: 2:04 - loss: i - ETA: 2:03 - loss: i - ETA: 2:03 - loss: i - ETA: 2:03 - loss: i - ETA: 2:02 - loss: i - ETA: 2:02 - loss: i - ETA: 2:02 - loss: i - ETA: 2:01 - loss: i - ETA: 2:01 - loss: i - ETA: 2:00 - loss: i - ETA: 2:00 - loss: i - ETA: 2:00 - loss: i - ETA: 1:59 - loss: i - ETA: 1:59 - loss: i - ETA: 1:59 - loss: i - ETA: 1:58 - loss: i - ETA: 1:58 - loss: i - ETA: 1:58 - loss: i - ETA: 1:57 - loss: i - ETA: 1:57 - loss: i - ETA: 1:57 - loss: i - ETA: 1:56 - loss: i - ETA: 1:56 - loss: i - ETA: 1:56 - loss: i - ETA: 1:55 - loss: i - ETA: 1:55 - loss: i - ETA: 1:55 - loss: i - ETA: 1:54 - loss: i - ETA: 1:54 - loss: i - ETA: 1:54 - loss: i - ETA: 1:53 - loss: i - ETA: 1:53 - loss: i - ETA: 1:53 - loss: i - ETA: 1:52 - loss: i - ETA: 1:52 - loss: i - ETA: 1:52 - loss: i - ETA: 1:51 - loss: i - ETA: 1:51 - loss: i - ETA: 1:51 - loss: i - ETA: 1:50 - loss: i - ETA: 1:50 - loss: i - ETA: 1:50 - loss: i - ETA: 1:49 - loss: i - ETA: 1:49 - loss: i - ETA: 1:49 - loss: i - ETA: 1:48 - loss: i - ETA: 1:48 - loss: i - ETA: 1:48 - loss: i - ETA: 1:47 - loss: i - ETA: 1:47 - loss: i - ETA: 1:47 - loss: i - ETA: 1:46 - loss: i - ETA: 1:46 - loss: i - ETA: 1:46 - loss: i - ETA: 1:45 - loss: i - ETA: 1:45 - loss: i - ETA: 1:45 - loss: i - ETA: 1:44 - loss: i - ETA: 1:44 - loss: i - ETA: 1:44 - loss: i - ETA: 1:43 - loss: i - ETA: 1:43 - loss: inf"
     ]
    },
    {
     "name": "stdout",
     "output_type": "stream",
     "text": [
      "2619/2812 [==========================>...] - ETA: 1:43 - loss: i - ETA: 1:42 - loss: i - ETA: 1:42 - loss: i - ETA: 1:42 - loss: i - ETA: 1:41 - loss: i - ETA: 1:41 - loss: i - ETA: 1:41 - loss: i - ETA: 1:40 - loss: i - ETA: 1:40 - loss: i - ETA: 1:40 - loss: i - ETA: 1:39 - loss: i - ETA: 1:39 - loss: i - ETA: 1:39 - loss: i - ETA: 1:38 - loss: i - ETA: 1:38 - loss: i - ETA: 1:38 - loss: i - ETA: 1:37 - loss: i - ETA: 1:37 - loss: i - ETA: 1:37 - loss: i - ETA: 1:36 - loss: i - ETA: 1:36 - loss: i - ETA: 1:36 - loss: i - ETA: 1:35 - loss: i - ETA: 1:35 - loss: i - ETA: 1:35 - loss: i - ETA: 1:34 - loss: i - ETA: 1:34 - loss: i - ETA: 1:34 - loss: i - ETA: 1:33 - loss: i - ETA: 1:33 - loss: i - ETA: 1:33 - loss: i - ETA: 1:32 - loss: i - ETA: 1:32 - loss: i - ETA: 1:32 - loss: i - ETA: 1:31 - loss: i - ETA: 1:31 - loss: i - ETA: 1:31 - loss: i - ETA: 1:30 - loss: i - ETA: 1:30 - loss: i - ETA: 1:30 - loss: i - ETA: 1:29 - loss: i - ETA: 1:29 - loss: i - ETA: 1:29 - loss: i - ETA: 1:28 - loss: i - ETA: 1:28 - loss: i - ETA: 1:28 - loss: i - ETA: 1:27 - loss: i - ETA: 1:27 - loss: i - ETA: 1:27 - loss: i - ETA: 1:26 - loss: i - ETA: 1:26 - loss: i - ETA: 1:26 - loss: i - ETA: 1:25 - loss: i - ETA: 1:25 - loss: i - ETA: 1:25 - loss: i - ETA: 1:24 - loss: i - ETA: 1:24 - loss: i - ETA: 1:24 - loss: i - ETA: 1:23 - loss: i - ETA: 1:23 - loss: i - ETA: 1:23 - loss: i - ETA: 1:22 - loss: i - ETA: 1:22 - loss: i - ETA: 1:22 - loss: i - ETA: 1:21 - loss: i - ETA: 1:21 - loss: i - ETA: 1:21 - loss: i - ETA: 1:20 - loss: i - ETA: 1:20 - loss: i - ETA: 1:20 - loss: i - ETA: 1:19 - loss: i - ETA: 1:19 - loss: i - ETA: 1:19 - loss: i - ETA: 1:18 - loss: i - ETA: 1:18 - loss: i - ETA: 1:18 - loss: i - ETA: 1:17 - loss: i - ETA: 1:17 - loss: i - ETA: 1:17 - loss: i - ETA: 1:16 - loss: i - ETA: 1:16 - loss: i - ETA: 1:16 - loss: i - ETA: 1:15 - loss: i - ETA: 1:15 - loss: i - ETA: 1:15 - loss: i - ETA: 1:14 - loss: i - ETA: 1:14 - loss: i - ETA: 1:14 - loss: i - ETA: 1:13 - loss: i - ETA: 1:13 - loss: i - ETA: 1:13 - loss: i - ETA: 1:12 - loss: i - ETA: 1:12 - loss: i - ETA: 1:12 - loss: i - ETA: 1:11 - loss: i - ETA: 1:11 - loss: i - ETA: 1:11 - loss: i - ETA: 1:10 - loss: i - ETA: 1:10 - loss: i - ETA: 1:10 - loss: i - ETA: 1:09 - loss: i - ETA: 1:09 - loss: i - ETA: 1:09 - loss: i - ETA: 1:08 - loss: i - ETA: 1:08 - loss: i - ETA: 1:08 - loss: i - ETA: 1:07 - loss: i - ETA: 1:07 - loss: i - ETA: 1:07 - loss: i - ETA: 1:06 - loss: i - ETA: 1:06 - loss: i - ETA: 1:06 - loss: i - ETA: 1:05 - loss: i - ETA: 1:05 - loss: i - ETA: 1:05 - loss: i - ETA: 1:04 - loss: i - ETA: 1:04 - loss: i - ETA: 1:04 - loss: i\r"
     ]
    }
   ],
   "source": [
    "main(args)"
   ]
  },
  {
   "cell_type": "code",
   "execution_count": null,
   "metadata": {},
   "outputs": [],
   "source": [
    "from tensorflow.python.client import device_lib\n",
    "print(device_lib.list_local_devices())"
   ]
  }
 ],
 "metadata": {
  "kernelspec": {
   "display_name": "Python 3",
   "language": "python",
   "name": "python3"
  },
  "language_info": {
   "codemirror_mode": {
    "name": "ipython",
    "version": 3
   },
   "file_extension": ".py",
   "mimetype": "text/x-python",
   "name": "python",
   "nbconvert_exporter": "python",
   "pygments_lexer": "ipython3",
   "version": "3.6.7"
  }
 },
 "nbformat": 4,
 "nbformat_minor": 2
}
